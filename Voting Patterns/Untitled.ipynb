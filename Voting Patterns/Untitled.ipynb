{
 "cells": [
  {
   "cell_type": "code",
   "execution_count": 1,
   "id": "0edc5ae1-5f9a-4544-996f-566a165fcc33",
   "metadata": {},
   "outputs": [],
   "source": [
    "import pandas as pd\n",
    "import geopandas as gpd\n",
    "import censusdata\n",
    "import numpy as np\n",
    "import warnings; warnings.simplefilter('ignore')"
   ]
  },
  {
   "cell_type": "code",
   "execution_count": 17,
   "id": "6ef3d28e-cf20-4bfb-a4a9-d11eb8f5e8eb",
   "metadata": {},
   "outputs": [],
   "source": [
    "#censusdata.search('acs5', 2015, 'label', 'income')"
   ]
  },
  {
   "cell_type": "code",
   "execution_count": 15,
   "id": "16162ae7-6147-4d32-987b-2147ac0fb93d",
   "metadata": {},
   "outputs": [
    {
     "name": "stdout",
     "output_type": "stream",
     "text": [
      "Variable     | Table                          | Label                                                    | Type \n",
      "-------------------------------------------------------------------------------------------------------------------\n",
      "B19053_001E  | B19053.  Self-Employment Incom | Total:                                                   | int  \n",
      "B19053_002E  | B19053.  Self-Employment Incom | With self-employment income                              | int  \n",
      "B19053_003E  | B19053.  Self-Employment Incom | No self-employment income                                | int  \n",
      "-------------------------------------------------------------------------------------------------------------------\n"
     ]
    }
   ],
   "source": [
    "censusdata.printtable(censusdata.censustable('acs5', 2015, 'B19053'))"
   ]
  },
  {
   "cell_type": "code",
   "execution_count": null,
   "id": "0592b4d0-fbf0-4b82-aee2-2331661c431f",
   "metadata": {},
   "outputs": [],
   "source": [
    "df = censusdata.download('acs5', 2015, censusdata.censusgeo([('state', '25'), ('county', '025'), ('tract', '*')]),\n",
    "                             ['B17005_001E', 'B17005_002E', 'B17005_013E'])"
   ]
  }
 ],
 "metadata": {
  "kernelspec": {
   "display_name": "Python 3",
   "language": "python",
   "name": "python3"
  },
  "language_info": {
   "codemirror_mode": {
    "name": "ipython",
    "version": 3
   },
   "file_extension": ".py",
   "mimetype": "text/x-python",
   "name": "python",
   "nbconvert_exporter": "python",
   "pygments_lexer": "ipython3",
   "version": "3.8.8"
  }
 },
 "nbformat": 4,
 "nbformat_minor": 5
}
