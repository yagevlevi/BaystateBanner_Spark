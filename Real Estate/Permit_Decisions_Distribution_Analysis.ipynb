{
 "cells": [
  {
   "cell_type": "code",
   "execution_count": 1,
   "id": "b50063dc-3270-4b95-9683-d9a879a16237",
   "metadata": {},
   "outputs": [],
   "source": [
    "import pandas as pd\n",
    "import matplotlib.pyplot as plt"
   ]
  },
  {
   "cell_type": "code",
   "execution_count": 4,
   "id": "3dd0f40f-2f81-41bb-b74a-2e0647b5d708",
   "metadata": {},
   "outputs": [
    {
     "data": {
      "text/html": [
       "<div>\n",
       "<style scoped>\n",
       "    .dataframe tbody tr th:only-of-type {\n",
       "        vertical-align: middle;\n",
       "    }\n",
       "\n",
       "    .dataframe tbody tr th {\n",
       "        vertical-align: top;\n",
       "    }\n",
       "\n",
       "    .dataframe thead th {\n",
       "        text-align: right;\n",
       "    }\n",
       "</style>\n",
       "<table border=\"1\" class=\"dataframe\">\n",
       "  <thead>\n",
       "    <tr style=\"text-align: right;\">\n",
       "      <th></th>\n",
       "      <th>permitnumber</th>\n",
       "      <th>worktype</th>\n",
       "      <th>permittypedescr</th>\n",
       "      <th>declared_valuation</th>\n",
       "      <th>occupancytype</th>\n",
       "    </tr>\n",
       "  </thead>\n",
       "  <tbody>\n",
       "    <tr>\n",
       "      <th>0</th>\n",
       "      <td>A1048</td>\n",
       "      <td>ERECT</td>\n",
       "      <td>Amendment to a Long Form</td>\n",
       "      <td>0.0</td>\n",
       "      <td>Mixed</td>\n",
       "    </tr>\n",
       "    <tr>\n",
       "      <th>1</th>\n",
       "      <td>A21302</td>\n",
       "      <td>NEWCON</td>\n",
       "      <td>Amendment to a Long Form</td>\n",
       "      <td>15000.0</td>\n",
       "      <td>Mixed</td>\n",
       "    </tr>\n",
       "    <tr>\n",
       "      <th>2</th>\n",
       "      <td>COO752522</td>\n",
       "      <td>ERECT</td>\n",
       "      <td>Certificate of Occupancy</td>\n",
       "      <td>0.0</td>\n",
       "      <td>Mixed</td>\n",
       "    </tr>\n",
       "    <tr>\n",
       "      <th>3</th>\n",
       "      <td>COO752522</td>\n",
       "      <td>ERECT</td>\n",
       "      <td>Certificate of Occupancy</td>\n",
       "      <td>0.0</td>\n",
       "      <td>Mixed</td>\n",
       "    </tr>\n",
       "    <tr>\n",
       "      <th>4</th>\n",
       "      <td>COO752522</td>\n",
       "      <td>ERECT</td>\n",
       "      <td>Certificate of Occupancy</td>\n",
       "      <td>0.0</td>\n",
       "      <td>Mixed</td>\n",
       "    </tr>\n",
       "  </tbody>\n",
       "</table>\n",
       "</div>"
      ],
      "text/plain": [
       "  permitnumber worktype           permittypedescr  declared_valuation  \\\n",
       "0        A1048    ERECT  Amendment to a Long Form                 0.0   \n",
       "1       A21302   NEWCON  Amendment to a Long Form             15000.0   \n",
       "2    COO752522    ERECT  Certificate of Occupancy                 0.0   \n",
       "3    COO752522    ERECT  Certificate of Occupancy                 0.0   \n",
       "4    COO752522    ERECT  Certificate of Occupancy                 0.0   \n",
       "\n",
       "  occupancytype  \n",
       "0         Mixed  \n",
       "1         Mixed  \n",
       "2         Mixed  \n",
       "3         Mixed  \n",
       "4         Mixed  "
      ]
     },
     "execution_count": 4,
     "metadata": {},
     "output_type": "execute_result"
    }
   ],
   "source": [
    "df = pd.read_csv('approved_projects_with_demographics.csv')\n",
    "df = df[['permitnumber', 'worktype', 'permittypedescr', 'declared_valuation', 'occupancytype']]\n",
    "df.head()"
   ]
  },
  {
   "cell_type": "code",
   "execution_count": 10,
   "id": "6b05c4ca-bd64-4889-b2af-251c99d0753d",
   "metadata": {
    "tags": []
   },
   "outputs": [
    {
     "data": {
      "text/html": [
       "<div>\n",
       "<style scoped>\n",
       "    .dataframe tbody tr th:only-of-type {\n",
       "        vertical-align: middle;\n",
       "    }\n",
       "\n",
       "    .dataframe tbody tr th {\n",
       "        vertical-align: top;\n",
       "    }\n",
       "\n",
       "    .dataframe thead th {\n",
       "        text-align: right;\n",
       "    }\n",
       "</style>\n",
       "<table border=\"1\" class=\"dataframe\">\n",
       "  <thead>\n",
       "    <tr style=\"text-align: right;\">\n",
       "      <th></th>\n",
       "      <th>worktype</th>\n",
       "      <th>count</th>\n",
       "    </tr>\n",
       "  </thead>\n",
       "  <tbody>\n",
       "    <tr>\n",
       "      <th>0</th>\n",
       "      <td>ERECT</td>\n",
       "      <td>1584</td>\n",
       "    </tr>\n",
       "    <tr>\n",
       "      <th>1</th>\n",
       "      <td>NEWCON</td>\n",
       "      <td>583</td>\n",
       "    </tr>\n",
       "    <tr>\n",
       "      <th>2</th>\n",
       "      <td>Capital</td>\n",
       "      <td>1330</td>\n",
       "    </tr>\n",
       "    <tr>\n",
       "      <th>3</th>\n",
       "      <td>Service</td>\n",
       "      <td>2511</td>\n",
       "    </tr>\n",
       "    <tr>\n",
       "      <th>4</th>\n",
       "      <td>Main</td>\n",
       "      <td>2859</td>\n",
       "    </tr>\n",
       "    <tr>\n",
       "      <th>5</th>\n",
       "      <td>PVTEMER</td>\n",
       "      <td>223</td>\n",
       "    </tr>\n",
       "    <tr>\n",
       "      <th>6</th>\n",
       "      <td>INTEXT</td>\n",
       "      <td>1</td>\n",
       "    </tr>\n",
       "    <tr>\n",
       "      <th>7</th>\n",
       "      <td>EXTREN</td>\n",
       "      <td>2</td>\n",
       "    </tr>\n",
       "    <tr>\n",
       "      <th>8</th>\n",
       "      <td>GARAGE</td>\n",
       "      <td>3</td>\n",
       "    </tr>\n",
       "    <tr>\n",
       "      <th>9</th>\n",
       "      <td>UNLABELED</td>\n",
       "      <td>19</td>\n",
       "    </tr>\n",
       "    <tr>\n",
       "      <th>10</th>\n",
       "      <td>ADDITION</td>\n",
       "      <td>5</td>\n",
       "    </tr>\n",
       "    <tr>\n",
       "      <th>11</th>\n",
       "      <td>CONVRT</td>\n",
       "      <td>28</td>\n",
       "    </tr>\n",
       "    <tr>\n",
       "      <th>12</th>\n",
       "      <td>COB</td>\n",
       "      <td>14</td>\n",
       "    </tr>\n",
       "    <tr>\n",
       "      <th>13</th>\n",
       "      <td>CHGOCC</td>\n",
       "      <td>1</td>\n",
       "    </tr>\n",
       "    <tr>\n",
       "      <th>14</th>\n",
       "      <td>OTHER</td>\n",
       "      <td>4</td>\n",
       "    </tr>\n",
       "    <tr>\n",
       "      <th>15</th>\n",
       "      <td>SD</td>\n",
       "      <td>1</td>\n",
       "    </tr>\n",
       "    <tr>\n",
       "      <th>16</th>\n",
       "      <td>CELL</td>\n",
       "      <td>1</td>\n",
       "    </tr>\n",
       "  </tbody>\n",
       "</table>\n",
       "</div>"
      ],
      "text/plain": [
       "     worktype count\n",
       "0       ERECT  1584\n",
       "1      NEWCON   583\n",
       "2     Capital  1330\n",
       "3     Service  2511\n",
       "4        Main  2859\n",
       "5     PVTEMER   223\n",
       "6      INTEXT     1\n",
       "7      EXTREN     2\n",
       "8      GARAGE     3\n",
       "9   UNLABELED    19\n",
       "10   ADDITION     5\n",
       "11     CONVRT    28\n",
       "12        COB    14\n",
       "13     CHGOCC     1\n",
       "14      OTHER     4\n",
       "15         SD     1\n",
       "16       CELL     1"
      ]
     },
     "execution_count": 10,
     "metadata": {},
     "output_type": "execute_result"
    }
   ],
   "source": [
    "worktypes_df = pd.DataFrame(columns = ['worktype', 'count'])\n",
    "\n",
    "worktypes = df['worktype'].unique()\n",
    "\n",
    "work_groups = df.groupby(df.worktype)\n",
    "\n",
    "for i in range(len(worktypes)):\n",
    "    temp_df = work_groups.get_group(worktypes[i])\n",
    "    worktypes_df.loc[i] = [worktypes[i], len(temp_df)]\n",
    "\n",
    "worktypes_df.loc[9] = ['UNLABELED', 19]\n",
    "worktypes_df"
   ]
  },
  {
   "cell_type": "code",
   "execution_count": 11,
   "id": "56a2b69a-34a0-4d21-805a-277d8d05635f",
   "metadata": {},
   "outputs": [
    {
     "data": {
      "text/plain": [
       "Text(0, 0.5, 'Count')"
      ]
     },
     "execution_count": 11,
     "metadata": {},
     "output_type": "execute_result"
    },
    {
     "data": {
      "image/png": "[encoded data removed]",
      "text/plain": [
       "<Figure size 432x288 with 1 Axes>"
      ]
     },
     "metadata": {
      "needs_background": "light"
     },
     "output_type": "display_data"
    }
   ],
   "source": [
    "plt.bar(worktypes_df['worktype'], worktypes_df['count'])\n",
    "plt.xticks(rotation=90)\n",
    "plt.title('Amounts of Different Project Types')\n",
    "plt.xlabel('Project Type')\n",
    "plt.ylabel('Count')"
   ]
  },
  {
   "cell_type": "code",
   "execution_count": 12,
   "id": "dee32c9a-5017-4647-86cb-7055cbf6cd27",
   "metadata": {},
   "outputs": [
    {
     "data": {
      "text/html": [
       "<div>\n",
       "<style scoped>\n",
       "    .dataframe tbody tr th:only-of-type {\n",
       "        vertical-align: middle;\n",
       "    }\n",
       "\n",
       "    .dataframe tbody tr th {\n",
       "        vertical-align: top;\n",
       "    }\n",
       "\n",
       "    .dataframe thead th {\n",
       "        text-align: right;\n",
       "    }\n",
       "</style>\n",
       "<table border=\"1\" class=\"dataframe\">\n",
       "  <thead>\n",
       "    <tr style=\"text-align: right;\">\n",
       "      <th></th>\n",
       "      <th>permittype</th>\n",
       "      <th>count</th>\n",
       "    </tr>\n",
       "  </thead>\n",
       "  <tbody>\n",
       "    <tr>\n",
       "      <th>0</th>\n",
       "      <td>Amendment to a Long Form</td>\n",
       "      <td>48</td>\n",
       "    </tr>\n",
       "    <tr>\n",
       "      <th>1</th>\n",
       "      <td>Certificate of Occupancy</td>\n",
       "      <td>782</td>\n",
       "    </tr>\n",
       "    <tr>\n",
       "      <th>2</th>\n",
       "      <td>Erect/New Construction</td>\n",
       "      <td>970</td>\n",
       "    </tr>\n",
       "    <tr>\n",
       "      <th>3</th>\n",
       "      <td>Excavation Permit</td>\n",
       "      <td>6938</td>\n",
       "    </tr>\n",
       "    <tr>\n",
       "      <th>4</th>\n",
       "      <td>Electrical Permit</td>\n",
       "      <td>91</td>\n",
       "    </tr>\n",
       "    <tr>\n",
       "      <th>5</th>\n",
       "      <td>Plumbing Permit</td>\n",
       "      <td>42</td>\n",
       "    </tr>\n",
       "    <tr>\n",
       "      <th>6</th>\n",
       "      <td>Short Form Bldg Permit</td>\n",
       "      <td>152</td>\n",
       "    </tr>\n",
       "    <tr>\n",
       "      <th>7</th>\n",
       "      <td>Long Form/Alteration Permit</td>\n",
       "      <td>72</td>\n",
       "    </tr>\n",
       "    <tr>\n",
       "      <th>8</th>\n",
       "      <td>Foundation Permit</td>\n",
       "      <td>29</td>\n",
       "    </tr>\n",
       "    <tr>\n",
       "      <th>9</th>\n",
       "      <td>Gas Permit</td>\n",
       "      <td>17</td>\n",
       "    </tr>\n",
       "    <tr>\n",
       "      <th>10</th>\n",
       "      <td>Electrical Low Voltage</td>\n",
       "      <td>21</td>\n",
       "    </tr>\n",
       "    <tr>\n",
       "      <th>11</th>\n",
       "      <td>Electrical Temporary Service</td>\n",
       "      <td>2</td>\n",
       "    </tr>\n",
       "    <tr>\n",
       "      <th>12</th>\n",
       "      <td>Electrical Fire Alarms</td>\n",
       "      <td>4</td>\n",
       "    </tr>\n",
       "    <tr>\n",
       "      <th>13</th>\n",
       "      <td>Use of Premises</td>\n",
       "      <td>1</td>\n",
       "    </tr>\n",
       "  </tbody>\n",
       "</table>\n",
       "</div>"
      ],
      "text/plain": [
       "                      permittype count\n",
       "0       Amendment to a Long Form    48\n",
       "1       Certificate of Occupancy   782\n",
       "2         Erect/New Construction   970\n",
       "3              Excavation Permit  6938\n",
       "4              Electrical Permit    91\n",
       "5                Plumbing Permit    42\n",
       "6         Short Form Bldg Permit   152\n",
       "7    Long Form/Alteration Permit    72\n",
       "8              Foundation Permit    29\n",
       "9                     Gas Permit    17\n",
       "10        Electrical Low Voltage    21\n",
       "11  Electrical Temporary Service     2\n",
       "12        Electrical Fire Alarms     4\n",
       "13               Use of Premises     1"
      ]
     },
     "execution_count": 12,
     "metadata": {},
     "output_type": "execute_result"
    }
   ],
   "source": [
    "permit_type_df = pd.DataFrame(columns = ['permittype', 'count'])\n",
    "\n",
    "permittypes = df['permittypedescr'].unique()\n",
    "\n",
    "types_groups = df.groupby(df.permittypedescr)\n",
    "\n",
    "for i in range(len(permittypes)):\n",
    "    temp_df = types_groups.get_group(permittypes[i])\n",
    "    permit_type_df.loc[i] = [permittypes[i], len(temp_df)]\n",
    "\n",
    "permit_type_df"
   ]
  },
  {
   "cell_type": "code",
   "execution_count": 14,
   "id": "803851de-6a45-431d-825f-def6c55dc10b",
   "metadata": {},
   "outputs": [
    {
     "data": {
      "text/plain": [
       "Text(0, 0.5, 'Count')"
      ]
     },
     "execution_count": 14,
     "metadata": {},
     "output_type": "execute_result"
    },
    {
     "data": {
      "image/png": "[encoded data removed]",
      "text/plain": [
       "<Figure size 432x288 with 1 Axes>"
      ]
     },
     "metadata": {
      "needs_background": "light"
     },
     "output_type": "display_data"
    }
   ],
   "source": [
    "plt.bar(permit_type_df['permittype'], permit_type_df['count'])\n",
    "plt.xticks(rotation=90)\n",
    "plt.title('Amount of Different Types of Permits Approved')\n",
    "plt.xlabel('Permit Type')\n",
    "plt.ylabel('Count')"
   ]
  },
  {
   "cell_type": "code",
   "execution_count": 16,
   "id": "e280cfdc-6812-45b1-b525-9139e1c9eab7",
   "metadata": {},
   "outputs": [
    {
     "data": {
      "text/html": [
       "<div>\n",
       "<style scoped>\n",
       "    .dataframe tbody tr th:only-of-type {\n",
       "        vertical-align: middle;\n",
       "    }\n",
       "\n",
       "    .dataframe tbody tr th {\n",
       "        vertical-align: top;\n",
       "    }\n",
       "\n",
       "    .dataframe thead th {\n",
       "        text-align: right;\n",
       "    }\n",
       "</style>\n",
       "<table border=\"1\" class=\"dataframe\">\n",
       "  <thead>\n",
       "    <tr style=\"text-align: right;\">\n",
       "      <th></th>\n",
       "      <th>occupancytype</th>\n",
       "      <th>count</th>\n",
       "    </tr>\n",
       "  </thead>\n",
       "  <tbody>\n",
       "    <tr>\n",
       "      <th>0</th>\n",
       "      <td>Mixed</td>\n",
       "      <td>198</td>\n",
       "    </tr>\n",
       "    <tr>\n",
       "      <th>1</th>\n",
       "      <td>Unlabeled</td>\n",
       "      <td>6970</td>\n",
       "    </tr>\n",
       "    <tr>\n",
       "      <th>2</th>\n",
       "      <td>Comm</td>\n",
       "      <td>270</td>\n",
       "    </tr>\n",
       "    <tr>\n",
       "      <th>3</th>\n",
       "      <td>Multi</td>\n",
       "      <td>404</td>\n",
       "    </tr>\n",
       "    <tr>\n",
       "      <th>4</th>\n",
       "      <td>1-2FAM</td>\n",
       "      <td>679</td>\n",
       "    </tr>\n",
       "    <tr>\n",
       "      <th>5</th>\n",
       "      <td>VacLd</td>\n",
       "      <td>201</td>\n",
       "    </tr>\n",
       "    <tr>\n",
       "      <th>6</th>\n",
       "      <td>1-3FAM</td>\n",
       "      <td>243</td>\n",
       "    </tr>\n",
       "    <tr>\n",
       "      <th>7</th>\n",
       "      <td>7More</td>\n",
       "      <td>7</td>\n",
       "    </tr>\n",
       "    <tr>\n",
       "      <th>8</th>\n",
       "      <td>Other</td>\n",
       "      <td>79</td>\n",
       "    </tr>\n",
       "    <tr>\n",
       "      <th>9</th>\n",
       "      <td>2unit</td>\n",
       "      <td>9</td>\n",
       "    </tr>\n",
       "    <tr>\n",
       "      <th>10</th>\n",
       "      <td>1-4FAM</td>\n",
       "      <td>66</td>\n",
       "    </tr>\n",
       "    <tr>\n",
       "      <th>11</th>\n",
       "      <td>1Unit</td>\n",
       "      <td>13</td>\n",
       "    </tr>\n",
       "    <tr>\n",
       "      <th>12</th>\n",
       "      <td>1-7FAM</td>\n",
       "      <td>18</td>\n",
       "    </tr>\n",
       "    <tr>\n",
       "      <th>13</th>\n",
       "      <td>4unit</td>\n",
       "      <td>5</td>\n",
       "    </tr>\n",
       "    <tr>\n",
       "      <th>14</th>\n",
       "      <td>5unit</td>\n",
       "      <td>1</td>\n",
       "    </tr>\n",
       "    <tr>\n",
       "      <th>15</th>\n",
       "      <td>6unit</td>\n",
       "      <td>1</td>\n",
       "    </tr>\n",
       "    <tr>\n",
       "      <th>16</th>\n",
       "      <td>3unit</td>\n",
       "      <td>3</td>\n",
       "    </tr>\n",
       "    <tr>\n",
       "      <th>17</th>\n",
       "      <td>7unit</td>\n",
       "      <td>2</td>\n",
       "    </tr>\n",
       "  </tbody>\n",
       "</table>\n",
       "</div>"
      ],
      "text/plain": [
       "   occupancytype count\n",
       "0          Mixed   198\n",
       "1      Unlabeled  6970\n",
       "2           Comm   270\n",
       "3          Multi   404\n",
       "4         1-2FAM   679\n",
       "5          VacLd   201\n",
       "6         1-3FAM   243\n",
       "7          7More     7\n",
       "8          Other    79\n",
       "9          2unit     9\n",
       "10        1-4FAM    66\n",
       "11         1Unit    13\n",
       "12        1-7FAM    18\n",
       "13         4unit     5\n",
       "14         5unit     1\n",
       "15         6unit     1\n",
       "16         3unit     3\n",
       "17         7unit     2"
      ]
     },
     "execution_count": 16,
     "metadata": {},
     "output_type": "execute_result"
    }
   ],
   "source": [
    "occupancy_type_df = pd.DataFrame(columns = ['occupancytype', 'count'])\n",
    "\n",
    "occupancytypes = df['occupancytype'].unique()\n",
    "\n",
    "types_groups = df.groupby(df.occupancytype)\n",
    "\n",
    "for i in range(len(occupancytypes)):\n",
    "    temp_df = types_groups.get_group(occupancytypes[i])\n",
    "    occupancy_type_df.loc[i] = [occupancytypes[i], len(temp_df)]\n",
    "\n",
    "occupancy_type_df.loc[1] = ['Unlabeled', 6970]\n",
    "occupancy_type_df"
   ]
  },
  {
   "cell_type": "code",
   "execution_count": 17,
   "id": "d3c7e43a-8514-4a4e-8d25-e64c8757a24a",
   "metadata": {},
   "outputs": [
    {
     "data": {
      "text/plain": [
       "Text(0, 0.5, 'Count')"
      ]
     },
     "execution_count": 17,
     "metadata": {},
     "output_type": "execute_result"
    },
    {
     "data": {
      "image/png": "[encoded data removed]",
      "text/plain": [
       "<Figure size 432x288 with 1 Axes>"
      ]
     },
     "metadata": {
      "needs_background": "light"
     },
     "output_type": "display_data"
    }
   ],
   "source": [
    "plt.bar(occupancy_type_df['occupancytype'], occupancy_type_df['count'])\n",
    "plt.xticks(rotation=90)\n",
    "plt.title('Amount of Different Occupancies of Projects')\n",
    "plt.xlabel('Occupancy Type')\n",
    "plt.ylabel('Count')"
   ]
  },
  {
   "cell_type": "code",
   "execution_count": 27,
   "id": "aa100d59-4263-44a5-81f5-3b0b09bba676",
   "metadata": {},
   "outputs": [
    {
     "data": {
      "text/html": [
       "<div>\n",
       "<style scoped>\n",
       "    .dataframe tbody tr th:only-of-type {\n",
       "        vertical-align: middle;\n",
       "    }\n",
       "\n",
       "    .dataframe tbody tr th {\n",
       "        vertical-align: top;\n",
       "    }\n",
       "\n",
       "    .dataframe thead th {\n",
       "        text-align: right;\n",
       "    }\n",
       "</style>\n",
       "<table border=\"1\" class=\"dataframe\">\n",
       "  <thead>\n",
       "    <tr style=\"text-align: right;\">\n",
       "      <th></th>\n",
       "      <th>declared_valuation</th>\n",
       "      <th>count</th>\n",
       "    </tr>\n",
       "  </thead>\n",
       "  <tbody>\n",
       "    <tr>\n",
       "      <th>0</th>\n",
       "      <td>Above $30,000</td>\n",
       "      <td>1468</td>\n",
       "    </tr>\n",
       "    <tr>\n",
       "      <th>1</th>\n",
       "      <td>Less than or equal to $30,000</td>\n",
       "      <td>7701</td>\n",
       "    </tr>\n",
       "  </tbody>\n",
       "</table>\n",
       "</div>"
      ],
      "text/plain": [
       "              declared_valuation count\n",
       "0                  Above $30,000  1468\n",
       "1  Less than or equal to $30,000  7701"
      ]
     },
     "execution_count": 27,
     "metadata": {},
     "output_type": "execute_result"
    }
   ],
   "source": [
    "valuation_df = pd.DataFrame(columns = ['declared_valuation', 'count'])\n",
    "\n",
    "m = df['declared_valuation'].gt(30000)\n",
    "df['above 30,000'] = (m.groupby(df['permitnumber']).transform('sum').eq(1) & m).astype(int)\n",
    "\n",
    "valuation_df.loc[0] = ['Above $30,000', sum(df['above 30,000'])]\n",
    "valuation_df.loc[1] = ['Less than or equal to $30,000', len(df) - sum(df['above 30,000'])]\n",
    "\n",
    "valuation_df"
   ]
  },
  {
   "cell_type": "code",
   "execution_count": 28,
   "id": "fa2c91a9-12d9-4283-bc0b-080b9a3ef643",
   "metadata": {},
   "outputs": [
    {
     "data": {
      "text/plain": [
       "Text(0, 0.5, 'Count')"
      ]
     },
     "execution_count": 28,
     "metadata": {},
     "output_type": "execute_result"
    },
    {
     "data": {
      "image/png": "[encoded data removed]",
      "text/plain": [
       "<Figure size 432x288 with 1 Axes>"
      ]
     },
     "metadata": {
      "needs_background": "light"
     },
     "output_type": "display_data"
    }
   ],
   "source": [
    "plt.bar(valuation_df['declared_valuation'], valuation_df['count'])\n",
    "#plt.xticks(rotation=90)\n",
    "plt.title('Distribution of Project Valuations')\n",
    "plt.xlabel('Valuation')\n",
    "plt.ylabel('Count')"
   ]
  },
  {
   "cell_type": "code",
   "execution_count": 41,
   "id": "eb36ba98-1260-41c5-bf4c-b0abae630901",
   "metadata": {},
   "outputs": [
    {
     "data": {
      "text/html": [
       "<div>\n",
       "<style scoped>\n",
       "    .dataframe tbody tr th:only-of-type {\n",
       "        vertical-align: middle;\n",
       "    }\n",
       "\n",
       "    .dataframe tbody tr th {\n",
       "        vertical-align: top;\n",
       "    }\n",
       "\n",
       "    .dataframe thead th {\n",
       "        text-align: right;\n",
       "    }\n",
       "</style>\n",
       "<table border=\"1\" class=\"dataframe\">\n",
       "  <thead>\n",
       "    <tr style=\"text-align: right;\">\n",
       "      <th></th>\n",
       "      <th>declared_valuation</th>\n",
       "      <th>count</th>\n",
       "    </tr>\n",
       "  </thead>\n",
       "  <tbody>\n",
       "    <tr>\n",
       "      <th>0</th>\n",
       "      <td>Above $0</td>\n",
       "      <td>1774</td>\n",
       "    </tr>\n",
       "    <tr>\n",
       "      <th>1</th>\n",
       "      <td>Equal to $0</td>\n",
       "      <td>7395</td>\n",
       "    </tr>\n",
       "  </tbody>\n",
       "</table>\n",
       "</div>"
      ],
      "text/plain": [
       "  declared_valuation count\n",
       "0           Above $0  1774\n",
       "1        Equal to $0  7395"
      ]
     },
     "execution_count": 41,
     "metadata": {},
     "output_type": "execute_result"
    }
   ],
   "source": [
    "valuation_df2 = pd.DataFrame(columns = ['declared_valuation', 'count'])\n",
    "\n",
    "m = df['declared_valuation'].gt(0)\n",
    "df['above 0'] = (m.groupby(df['permitnumber']).transform('sum').eq(1) & m).astype(int)\n",
    "\n",
    "valuation_df2.loc[0] = ['Above $0', sum(df['above 0'])]\n",
    "valuation_df2.loc[1] = ['Equal to $0', len(df) - sum(df['above 0'])]\n",
    "\n",
    "valuation_df2"
   ]
  },
  {
   "cell_type": "code",
   "execution_count": 42,
   "id": "8aeb7354-5f0e-4f23-8a32-42091428baf3",
   "metadata": {},
   "outputs": [
    {
     "data": {
      "text/plain": [
       "Text(0, 0.5, 'Count')"
      ]
     },
     "execution_count": 42,
     "metadata": {},
     "output_type": "execute_result"
    },
    {
     "data": {
      "image/png": "[encoded data removed]",
      "text/plain": [
       "<Figure size 432x288 with 1 Axes>"
      ]
     },
     "metadata": {
      "needs_background": "light"
     },
     "output_type": "display_data"
    }
   ],
   "source": [
    "plt.bar(valuation_df2['declared_valuation'], valuation_df2['count'])\n",
    "#plt.xticks(rotation=90)\n",
    "plt.title('Distribution of Project Valuations')\n",
    "plt.xlabel('Valuation')\n",
    "plt.ylabel('Count')"
   ]
  },
  {
   "cell_type": "code",
   "execution_count": 43,
   "id": "4e9ee39e-a775-4ce1-93cf-5d005b1ea8f7",
   "metadata": {},
   "outputs": [
    {
     "name": "stderr",
     "output_type": "stream",
     "text": [
      "<ipython-input-43-56eeea366270>:7: SettingWithCopyWarning: \n",
      "A value is trying to be set on a copy of a slice from a DataFrame.\n",
      "Try using .loc[row_indexer,col_indexer] = value instead\n",
      "\n",
      "See the caveats in the documentation: https://pandas.pydata.org/pandas-docs/stable/user_guide/indexing.html#returning-a-view-versus-a-copy\n",
      "  df2['above 30,000'] = (m.groupby(df2['permitnumber']).transform('sum').eq(1) & m).astype(int)\n"
     ]
    },
    {
     "data": {
      "text/html": [
       "<div>\n",
       "<style scoped>\n",
       "    .dataframe tbody tr th:only-of-type {\n",
       "        vertical-align: middle;\n",
       "    }\n",
       "\n",
       "    .dataframe tbody tr th {\n",
       "        vertical-align: top;\n",
       "    }\n",
       "\n",
       "    .dataframe thead th {\n",
       "        text-align: right;\n",
       "    }\n",
       "</style>\n",
       "<table border=\"1\" class=\"dataframe\">\n",
       "  <thead>\n",
       "    <tr style=\"text-align: right;\">\n",
       "      <th></th>\n",
       "      <th>declared_valuation</th>\n",
       "      <th>count</th>\n",
       "    </tr>\n",
       "  </thead>\n",
       "  <tbody>\n",
       "    <tr>\n",
       "      <th>0</th>\n",
       "      <td>Above $30,000</td>\n",
       "      <td>1468</td>\n",
       "    </tr>\n",
       "    <tr>\n",
       "      <th>1</th>\n",
       "      <td>Less than or equal to $30,000</td>\n",
       "      <td>306</td>\n",
       "    </tr>\n",
       "  </tbody>\n",
       "</table>\n",
       "</div>"
      ],
      "text/plain": [
       "              declared_valuation count\n",
       "0                  Above $30,000  1468\n",
       "1  Less than or equal to $30,000   306"
      ]
     },
     "execution_count": 43,
     "metadata": {},
     "output_type": "execute_result"
    }
   ],
   "source": [
    "filt = df['above 0'] == 1\n",
    "df2 = df[filt]\n",
    "\n",
    "valuation_df = pd.DataFrame(columns = ['declared_valuation', 'count'])\n",
    "\n",
    "m = df2['declared_valuation'].gt(30000)\n",
    "df2['above 30,000'] = (m.groupby(df2['permitnumber']).transform('sum').eq(1) & m).astype(int)\n",
    "\n",
    "valuation_df.loc[0] = ['Above $30,000', sum(df2['above 30,000'])]\n",
    "valuation_df.loc[1] = ['Less than or equal to $30,000', len(df2) - sum(df2['above 30,000'])]\n",
    "\n",
    "valuation_df"
   ]
  },
  {
   "cell_type": "code",
   "execution_count": 44,
   "id": "8e38268b-67f8-4595-a4d2-12598166e3d5",
   "metadata": {},
   "outputs": [
    {
     "data": {
      "text/plain": [
       "Text(0, 0.5, 'Count')"
      ]
     },
     "execution_count": 44,
     "metadata": {},
     "output_type": "execute_result"
    },
    {
     "data": {
      "image/png": "[encoded data removed]",
      "text/plain": [
       "<Figure size 432x288 with 1 Axes>"
      ]
     },
     "metadata": {
      "needs_background": "light"
     },
     "output_type": "display_data"
    }
   ],
   "source": [
    "plt.bar(valuation_df['declared_valuation'], valuation_df['count'])\n",
    "#plt.xticks(rotation=90)\n",
    "plt.title('Distribution of Project Valuations Greater than 0')\n",
    "plt.xlabel('Valuation')\n",
    "plt.ylabel('Count')"
   ]
  },
  {
   "cell_type": "code",
   "execution_count": null,
   "id": "f238086b-8402-4960-b1d1-1bc3c12ae432",
   "metadata": {},
   "outputs": [],
   "source": []
  }
 ],
 "metadata": {
  "kernelspec": {
   "display_name": "Python 3",
   "language": "python",
   "name": "python3"
  },
  "language_info": {
   "codemirror_mode": {
    "name": "ipython",
    "version": 3
   },
   "file_extension": ".py",
   "mimetype": "text/x-python",
   "name": "python",
   "nbconvert_exporter": "python",
   "pygments_lexer": "ipython3",
   "version": "3.8.8"
  }
 },
 "nbformat": 4,
 "nbformat_minor": 5
}
