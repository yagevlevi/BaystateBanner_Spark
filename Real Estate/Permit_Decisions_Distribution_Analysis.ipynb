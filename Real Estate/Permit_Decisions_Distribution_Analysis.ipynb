{
 "cells": [
  {
   "cell_type": "code",
   "execution_count": 125,
   "id": "b50063dc-3270-4b95-9683-d9a879a16237",
   "metadata": {},
   "outputs": [],
   "source": [
    "import pandas as pd\n",
    "import matplotlib.pyplot as plt\n",
    "import matplotlib.patches as mpatches\n",
    "import numpy as np"
   ]
  },
  {
   "cell_type": "code",
   "execution_count": 9,
   "id": "3dd0f40f-2f81-41bb-b74a-2e0647b5d708",
   "metadata": {
    "collapsed": true,
    "jupyter": {
     "outputs_hidden": true
    },
    "tags": []
   },
   "outputs": [
    {
     "data": {
      "text/html": [
       "<div>\n",
       "<style scoped>\n",
       "    .dataframe tbody tr th:only-of-type {\n",
       "        vertical-align: middle;\n",
       "    }\n",
       "\n",
       "    .dataframe tbody tr th {\n",
       "        vertical-align: top;\n",
       "    }\n",
       "\n",
       "    .dataframe thead th {\n",
       "        text-align: right;\n",
       "    }\n",
       "</style>\n",
       "<table border=\"1\" class=\"dataframe\">\n",
       "  <thead>\n",
       "    <tr style=\"text-align: right;\">\n",
       "      <th></th>\n",
       "      <th>Unnamed: 0</th>\n",
       "      <th>Unnamed: 0.1</th>\n",
       "      <th>permitnumber</th>\n",
       "      <th>worktype</th>\n",
       "      <th>permittypedescr</th>\n",
       "      <th>description</th>\n",
       "      <th>comments</th>\n",
       "      <th>applicant</th>\n",
       "      <th>declared_valuation</th>\n",
       "      <th>total_fees</th>\n",
       "      <th>...</th>\n",
       "      <th>Male</th>\n",
       "      <th>Male Proportion</th>\n",
       "      <th>Female</th>\n",
       "      <th>Female Proportion</th>\n",
       "      <th>Lat</th>\n",
       "      <th>Long</th>\n",
       "      <th>Primary Sub-Neighborhood</th>\n",
       "      <th>Secondary Sub-Neighborhood</th>\n",
       "      <th>Teritriary Sub-Neighborhood(s)</th>\n",
       "      <th>T-Stop/Commuter Rail</th>\n",
       "    </tr>\n",
       "  </thead>\n",
       "  <tbody>\n",
       "    <tr>\n",
       "      <th>0</th>\n",
       "      <td>8</td>\n",
       "      <td>8</td>\n",
       "      <td>ERT325841</td>\n",
       "      <td>ERECT</td>\n",
       "      <td>Erect/New Construction</td>\n",
       "      <td>Erect</td>\n",
       "      <td>Combine parcels 1000004000 1000005000 10000060...</td>\n",
       "      <td>Arthur Choo</td>\n",
       "      <td>1750000.0</td>\n",
       "      <td>19361.0</td>\n",
       "      <td>...</td>\n",
       "      <td>2,274</td>\n",
       "      <td>50.34%</td>\n",
       "      <td>2,243</td>\n",
       "      <td>49.66%</td>\n",
       "      <td>42.334606</td>\n",
       "      <td>-71.096210</td>\n",
       "      <td>Frederick Douglas Square Historic District</td>\n",
       "      <td>Lower Roxbury</td>\n",
       "      <td>Fenway-Kenmore</td>\n",
       "      <td>Longwood Medical Area/Ruggles</td>\n",
       "    </tr>\n",
       "    <tr>\n",
       "      <th>1</th>\n",
       "      <td>9</td>\n",
       "      <td>9</td>\n",
       "      <td>ERT325841</td>\n",
       "      <td>ERECT</td>\n",
       "      <td>Erect/New Construction</td>\n",
       "      <td>Erect</td>\n",
       "      <td>Combine parcels 1000004000 1000005000 10000060...</td>\n",
       "      <td>Arthur Choo</td>\n",
       "      <td>1750000.0</td>\n",
       "      <td>19361.0</td>\n",
       "      <td>...</td>\n",
       "      <td>2,274</td>\n",
       "      <td>50.34%</td>\n",
       "      <td>2,243</td>\n",
       "      <td>49.66%</td>\n",
       "      <td>42.334606</td>\n",
       "      <td>-71.096210</td>\n",
       "      <td>Frederick Douglas Square Historic District</td>\n",
       "      <td>Lower Roxbury</td>\n",
       "      <td>Fenway-Kenmore</td>\n",
       "      <td>Longwood Medical Area/Ruggles</td>\n",
       "    </tr>\n",
       "    <tr>\n",
       "      <th>2</th>\n",
       "      <td>10</td>\n",
       "      <td>10</td>\n",
       "      <td>ERT325841</td>\n",
       "      <td>ERECT</td>\n",
       "      <td>Erect/New Construction</td>\n",
       "      <td>Erect</td>\n",
       "      <td>Combine parcels 1000004000 1000005000 10000060...</td>\n",
       "      <td>Arthur Choo</td>\n",
       "      <td>1750000.0</td>\n",
       "      <td>19361.0</td>\n",
       "      <td>...</td>\n",
       "      <td>2,274</td>\n",
       "      <td>50.34%</td>\n",
       "      <td>2,243</td>\n",
       "      <td>49.66%</td>\n",
       "      <td>42.334606</td>\n",
       "      <td>-71.096210</td>\n",
       "      <td>Frederick Douglas Square Historic District</td>\n",
       "      <td>Lower Roxbury</td>\n",
       "      <td>Fenway-Kenmore</td>\n",
       "      <td>Longwood Medical Area/Ruggles</td>\n",
       "    </tr>\n",
       "    <tr>\n",
       "      <th>3</th>\n",
       "      <td>44</td>\n",
       "      <td>44</td>\n",
       "      <td>ERT11971</td>\n",
       "      <td>ERECT</td>\n",
       "      <td>Erect/New Construction</td>\n",
       "      <td>Erect</td>\n",
       "      <td>Raze existing single family on lot and erect n...</td>\n",
       "      <td>Michael Barone</td>\n",
       "      <td>585000.0</td>\n",
       "      <td>5934.0</td>\n",
       "      <td>...</td>\n",
       "      <td>2,526</td>\n",
       "      <td>47.67%</td>\n",
       "      <td>2,773</td>\n",
       "      <td>52.33%</td>\n",
       "      <td>42.287332</td>\n",
       "      <td>-71.157012</td>\n",
       "      <td>Brook Farm</td>\n",
       "      <td>NaN</td>\n",
       "      <td>NaN</td>\n",
       "      <td>Highland</td>\n",
       "    </tr>\n",
       "    <tr>\n",
       "      <th>4</th>\n",
       "      <td>45</td>\n",
       "      <td>45</td>\n",
       "      <td>ERT301170</td>\n",
       "      <td>ERECT</td>\n",
       "      <td>Erect/New Construction</td>\n",
       "      <td>Erect</td>\n",
       "      <td>;erect eight unit building</td>\n",
       "      <td>John Omalley</td>\n",
       "      <td>900000.0</td>\n",
       "      <td>9250.0</td>\n",
       "      <td>...</td>\n",
       "      <td>2,526</td>\n",
       "      <td>47.67%</td>\n",
       "      <td>2,773</td>\n",
       "      <td>52.33%</td>\n",
       "      <td>42.287332</td>\n",
       "      <td>-71.157012</td>\n",
       "      <td>Brook Farm</td>\n",
       "      <td>NaN</td>\n",
       "      <td>NaN</td>\n",
       "      <td>Highland</td>\n",
       "    </tr>\n",
       "  </tbody>\n",
       "</table>\n",
       "<p>5 rows × 45 columns</p>\n",
       "</div>"
      ],
      "text/plain": [
       "   Unnamed: 0  Unnamed: 0.1 permitnumber worktype         permittypedescr  \\\n",
       "0           8             8    ERT325841    ERECT  Erect/New Construction   \n",
       "1           9             9    ERT325841    ERECT  Erect/New Construction   \n",
       "2          10            10    ERT325841    ERECT  Erect/New Construction   \n",
       "3          44            44     ERT11971    ERECT  Erect/New Construction   \n",
       "4          45            45    ERT301170    ERECT  Erect/New Construction   \n",
       "\n",
       "  description                                           comments  \\\n",
       "0       Erect  Combine parcels 1000004000 1000005000 10000060...   \n",
       "1       Erect  Combine parcels 1000004000 1000005000 10000060...   \n",
       "2       Erect  Combine parcels 1000004000 1000005000 10000060...   \n",
       "3       Erect  Raze existing single family on lot and erect n...   \n",
       "4       Erect                         ;erect eight unit building   \n",
       "\n",
       "        applicant  declared_valuation  total_fees  ...  Male  Male Proportion  \\\n",
       "0     Arthur Choo           1750000.0     19361.0  ...  2,274          50.34%   \n",
       "1     Arthur Choo           1750000.0     19361.0  ...  2,274          50.34%   \n",
       "2     Arthur Choo           1750000.0     19361.0  ...  2,274          50.34%   \n",
       "3  Michael Barone            585000.0      5934.0  ...  2,526          47.67%   \n",
       "4    John Omalley            900000.0      9250.0  ...  2,526          47.67%   \n",
       "\n",
       "  Female  Female Proportion         Lat       Long  \\\n",
       "0   2,243             49.66%  42.334606 -71.096210   \n",
       "1   2,243             49.66%  42.334606 -71.096210   \n",
       "2   2,243             49.66%  42.334606 -71.096210   \n",
       "3   2,773             52.33%  42.287332 -71.157012   \n",
       "4   2,773             52.33%  42.287332 -71.157012   \n",
       "\n",
       "                     Primary Sub-Neighborhood Secondary Sub-Neighborhood  \\\n",
       "0  Frederick Douglas Square Historic District              Lower Roxbury   \n",
       "1  Frederick Douglas Square Historic District              Lower Roxbury   \n",
       "2  Frederick Douglas Square Historic District              Lower Roxbury   \n",
       "3                                  Brook Farm                        NaN   \n",
       "4                                  Brook Farm                        NaN   \n",
       "\n",
       "  Teritriary Sub-Neighborhood(s)           T-Stop/Commuter Rail  \n",
       "0                 Fenway-Kenmore  Longwood Medical Area/Ruggles  \n",
       "1                 Fenway-Kenmore  Longwood Medical Area/Ruggles  \n",
       "2                 Fenway-Kenmore  Longwood Medical Area/Ruggles  \n",
       "3                            NaN                       Highland  \n",
       "4                            NaN                       Highland  \n",
       "\n",
       "[5 rows x 45 columns]"
      ]
     },
     "execution_count": 9,
     "metadata": {},
     "output_type": "execute_result"
    }
   ],
   "source": [
    "df = pd.read_csv('UPDATED_approved_projects_with_demographics.csv')\n",
    "#df = df[['permitnumber', 'worktype', 'permittypedescr', 'declared_valuation', 'occupancytype', 'city']]\n",
    "df.head()"
   ]
  },
  {
   "cell_type": "code",
   "execution_count": 10,
   "id": "6b05c4ca-bd64-4889-b2af-251c99d0753d",
   "metadata": {
    "tags": []
   },
   "outputs": [
    {
     "data": {
      "text/html": [
       "<div>\n",
       "<style scoped>\n",
       "    .dataframe tbody tr th:only-of-type {\n",
       "        vertical-align: middle;\n",
       "    }\n",
       "\n",
       "    .dataframe tbody tr th {\n",
       "        vertical-align: top;\n",
       "    }\n",
       "\n",
       "    .dataframe thead th {\n",
       "        text-align: right;\n",
       "    }\n",
       "</style>\n",
       "<table border=\"1\" class=\"dataframe\">\n",
       "  <thead>\n",
       "    <tr style=\"text-align: right;\">\n",
       "      <th></th>\n",
       "      <th>worktype</th>\n",
       "      <th>count</th>\n",
       "    </tr>\n",
       "  </thead>\n",
       "  <tbody>\n",
       "    <tr>\n",
       "      <th>0</th>\n",
       "      <td>ERECT</td>\n",
       "      <td>815</td>\n",
       "    </tr>\n",
       "    <tr>\n",
       "      <th>1</th>\n",
       "      <td>NEWCON</td>\n",
       "      <td>219</td>\n",
       "    </tr>\n",
       "    <tr>\n",
       "      <th>2</th>\n",
       "      <td>INTEXT</td>\n",
       "      <td>1</td>\n",
       "    </tr>\n",
       "    <tr>\n",
       "      <th>3</th>\n",
       "      <td>EXTREN</td>\n",
       "      <td>2</td>\n",
       "    </tr>\n",
       "    <tr>\n",
       "      <th>4</th>\n",
       "      <td>GARAGE</td>\n",
       "      <td>3</td>\n",
       "    </tr>\n",
       "    <tr>\n",
       "      <th>5</th>\n",
       "      <td></td>\n",
       "      <td>4</td>\n",
       "    </tr>\n",
       "    <tr>\n",
       "      <th>6</th>\n",
       "      <td>CONVRT</td>\n",
       "      <td>28</td>\n",
       "    </tr>\n",
       "    <tr>\n",
       "      <th>7</th>\n",
       "      <td>COB</td>\n",
       "      <td>12</td>\n",
       "    </tr>\n",
       "    <tr>\n",
       "      <th>8</th>\n",
       "      <td>CHGOCC</td>\n",
       "      <td>1</td>\n",
       "    </tr>\n",
       "    <tr>\n",
       "      <th>9</th>\n",
       "      <td>UNLABELED</td>\n",
       "      <td>19</td>\n",
       "    </tr>\n",
       "    <tr>\n",
       "      <th>10</th>\n",
       "      <td>CELL</td>\n",
       "      <td>1</td>\n",
       "    </tr>\n",
       "    <tr>\n",
       "      <th>11</th>\n",
       "      <td>OTHER</td>\n",
       "      <td>3</td>\n",
       "    </tr>\n",
       "  </tbody>\n",
       "</table>\n",
       "</div>"
      ],
      "text/plain": [
       "     worktype count\n",
       "0       ERECT   815\n",
       "1      NEWCON   219\n",
       "2      INTEXT     1\n",
       "3      EXTREN     2\n",
       "4      GARAGE     3\n",
       "5                 4\n",
       "6      CONVRT    28\n",
       "7         COB    12\n",
       "8      CHGOCC     1\n",
       "9   UNLABELED    19\n",
       "10       CELL     1\n",
       "11      OTHER     3"
      ]
     },
     "execution_count": 10,
     "metadata": {},
     "output_type": "execute_result"
    }
   ],
   "source": [
    "worktypes_df = pd.DataFrame(columns = ['worktype', 'count'])\n",
    "\n",
    "worktypes = df['worktype'].unique()\n",
    "\n",
    "work_groups = df.groupby(df.worktype)\n",
    "\n",
    "for i in range(len(worktypes)):\n",
    "    temp_df = work_groups.get_group(worktypes[i])\n",
    "    worktypes_df.loc[i] = [worktypes[i], len(temp_df)]\n",
    "\n",
    "worktypes_df.loc[9] = ['UNLABELED', 19]\n",
    "worktypes_df"
   ]
  },
  {
   "cell_type": "code",
   "execution_count": 11,
   "id": "56a2b69a-34a0-4d21-805a-277d8d05635f",
   "metadata": {},
   "outputs": [
    {
     "data": {
      "text/plain": [
       "Text(0, 0.5, 'Count')"
      ]
     },
     "execution_count": 11,
     "metadata": {},
     "output_type": "execute_result"
    },
    {
     "data": {
      "image/png": "[encoded data removed]",
      "text/plain": [
       "<Figure size 432x288 with 1 Axes>"
      ]
     },
     "metadata": {
      "needs_background": "light"
     },
     "output_type": "display_data"
    }
   ],
   "source": [
    "plt.bar(worktypes_df['worktype'], worktypes_df['count'])\n",
    "plt.xticks(rotation=90)\n",
    "plt.title('Amounts of Different Project Types')\n",
    "plt.xlabel('Project Type')\n",
    "plt.ylabel('Count')"
   ]
  },
  {
   "cell_type": "code",
   "execution_count": 12,
   "id": "dee32c9a-5017-4647-86cb-7055cbf6cd27",
   "metadata": {},
   "outputs": [
    {
     "data": {
      "text/html": [
       "<div>\n",
       "<style scoped>\n",
       "    .dataframe tbody tr th:only-of-type {\n",
       "        vertical-align: middle;\n",
       "    }\n",
       "\n",
       "    .dataframe tbody tr th {\n",
       "        vertical-align: top;\n",
       "    }\n",
       "\n",
       "    .dataframe thead th {\n",
       "        text-align: right;\n",
       "    }\n",
       "</style>\n",
       "<table border=\"1\" class=\"dataframe\">\n",
       "  <thead>\n",
       "    <tr style=\"text-align: right;\">\n",
       "      <th></th>\n",
       "      <th>permittype</th>\n",
       "      <th>count</th>\n",
       "    </tr>\n",
       "  </thead>\n",
       "  <tbody>\n",
       "    <tr>\n",
       "      <th>0</th>\n",
       "      <td>Erect/New Construction</td>\n",
       "      <td>970</td>\n",
       "    </tr>\n",
       "    <tr>\n",
       "      <th>1</th>\n",
       "      <td>Long Form/Alteration Permit</td>\n",
       "      <td>72</td>\n",
       "    </tr>\n",
       "    <tr>\n",
       "      <th>2</th>\n",
       "      <td>Amendment to a Long Form</td>\n",
       "      <td>48</td>\n",
       "    </tr>\n",
       "  </tbody>\n",
       "</table>\n",
       "</div>"
      ],
      "text/plain": [
       "                    permittype count\n",
       "0       Erect/New Construction   970\n",
       "1  Long Form/Alteration Permit    72\n",
       "2     Amendment to a Long Form    48"
      ]
     },
     "execution_count": 12,
     "metadata": {},
     "output_type": "execute_result"
    }
   ],
   "source": [
    "permit_type_df = pd.DataFrame(columns = ['permittype', 'count'])\n",
    "\n",
    "permittypes = df['permittypedescr'].unique()\n",
    "\n",
    "types_groups = df.groupby(df.permittypedescr)\n",
    "\n",
    "for i in range(len(permittypes)):\n",
    "    temp_df = types_groups.get_group(permittypes[i])\n",
    "    permit_type_df.loc[i] = [permittypes[i], len(temp_df)]\n",
    "\n",
    "permit_type_df"
   ]
  },
  {
   "cell_type": "code",
   "execution_count": 13,
   "id": "803851de-6a45-431d-825f-def6c55dc10b",
   "metadata": {},
   "outputs": [
    {
     "data": {
      "text/plain": [
       "Text(0, 0.5, 'Count')"
      ]
     },
     "execution_count": 13,
     "metadata": {},
     "output_type": "execute_result"
    },
    {
     "data": {
      "image/png": "[encoded data removed]",
      "text/plain": [
       "<Figure size 432x288 with 1 Axes>"
      ]
     },
     "metadata": {
      "needs_background": "light"
     },
     "output_type": "display_data"
    }
   ],
   "source": [
    "plt.bar(permit_type_df['permittype'], permit_type_df['count'])\n",
    "plt.xticks(rotation=90)\n",
    "plt.title('Amount of Different Types of Permits Approved')\n",
    "plt.xlabel('Permit Type')\n",
    "plt.ylabel('Count')"
   ]
  },
  {
   "cell_type": "code",
   "execution_count": 7,
   "id": "2b61af75-cbf7-408b-aabe-b1310c2422d2",
   "metadata": {},
   "outputs": [],
   "source": [
    "new = pd.concat([df[df['permittypedescr'] == 'Erect/New Construction'], df[df['permittypedescr'] == 'Long Form/Alteration Permit'],\n",
    "                df[df['permittypedescr'] == 'Amendment to a Long Form']])\n",
    "new.to_csv('UPDATED_approved_projects_with_demographics.csv')"
   ]
  },
  {
   "cell_type": "code",
   "execution_count": 14,
   "id": "e280cfdc-6812-45b1-b525-9139e1c9eab7",
   "metadata": {},
   "outputs": [
    {
     "data": {
      "text/html": [
       "<div>\n",
       "<style scoped>\n",
       "    .dataframe tbody tr th:only-of-type {\n",
       "        vertical-align: middle;\n",
       "    }\n",
       "\n",
       "    .dataframe tbody tr th {\n",
       "        vertical-align: top;\n",
       "    }\n",
       "\n",
       "    .dataframe thead th {\n",
       "        text-align: right;\n",
       "    }\n",
       "</style>\n",
       "<table border=\"1\" class=\"dataframe\">\n",
       "  <thead>\n",
       "    <tr style=\"text-align: right;\">\n",
       "      <th></th>\n",
       "      <th>occupancytype</th>\n",
       "      <th>count</th>\n",
       "    </tr>\n",
       "  </thead>\n",
       "  <tbody>\n",
       "    <tr>\n",
       "      <th>0</th>\n",
       "      <td>Mixed</td>\n",
       "      <td>92</td>\n",
       "    </tr>\n",
       "    <tr>\n",
       "      <th>1</th>\n",
       "      <td>Unlabeled</td>\n",
       "      <td>6970</td>\n",
       "    </tr>\n",
       "    <tr>\n",
       "      <th>2</th>\n",
       "      <td>Multi</td>\n",
       "      <td>194</td>\n",
       "    </tr>\n",
       "    <tr>\n",
       "      <th>3</th>\n",
       "      <td>Comm</td>\n",
       "      <td>104</td>\n",
       "    </tr>\n",
       "    <tr>\n",
       "      <th>4</th>\n",
       "      <td>VacLd</td>\n",
       "      <td>110</td>\n",
       "    </tr>\n",
       "    <tr>\n",
       "      <th>5</th>\n",
       "      <td>1-3FAM</td>\n",
       "      <td>126</td>\n",
       "    </tr>\n",
       "    <tr>\n",
       "      <th>6</th>\n",
       "      <td>2unit</td>\n",
       "      <td>4</td>\n",
       "    </tr>\n",
       "    <tr>\n",
       "      <th>7</th>\n",
       "      <td>Other</td>\n",
       "      <td>36</td>\n",
       "    </tr>\n",
       "    <tr>\n",
       "      <th>8</th>\n",
       "      <td>7More</td>\n",
       "      <td>1</td>\n",
       "    </tr>\n",
       "    <tr>\n",
       "      <th>9</th>\n",
       "      <td>1-4FAM</td>\n",
       "      <td>35</td>\n",
       "    </tr>\n",
       "    <tr>\n",
       "      <th>10</th>\n",
       "      <td>1Unit</td>\n",
       "      <td>3</td>\n",
       "    </tr>\n",
       "    <tr>\n",
       "      <th>11</th>\n",
       "      <td>4unit</td>\n",
       "      <td>3</td>\n",
       "    </tr>\n",
       "    <tr>\n",
       "      <th>12</th>\n",
       "      <td>1-7FAM</td>\n",
       "      <td>7</td>\n",
       "    </tr>\n",
       "    <tr>\n",
       "      <th>13</th>\n",
       "      <td></td>\n",
       "      <td>30</td>\n",
       "    </tr>\n",
       "    <tr>\n",
       "      <th>14</th>\n",
       "      <td>7unit</td>\n",
       "      <td>1</td>\n",
       "    </tr>\n",
       "  </tbody>\n",
       "</table>\n",
       "</div>"
      ],
      "text/plain": [
       "   occupancytype count\n",
       "0          Mixed    92\n",
       "1      Unlabeled  6970\n",
       "2          Multi   194\n",
       "3           Comm   104\n",
       "4          VacLd   110\n",
       "5         1-3FAM   126\n",
       "6          2unit     4\n",
       "7          Other    36\n",
       "8          7More     1\n",
       "9         1-4FAM    35\n",
       "10         1Unit     3\n",
       "11         4unit     3\n",
       "12        1-7FAM     7\n",
       "13                  30\n",
       "14         7unit     1"
      ]
     },
     "execution_count": 14,
     "metadata": {},
     "output_type": "execute_result"
    }
   ],
   "source": [
    "occupancy_type_df = pd.DataFrame(columns = ['occupancytype', 'count'])\n",
    "\n",
    "occupancytypes = df['occupancytype'].unique()\n",
    "\n",
    "types_groups = df.groupby(df.occupancytype)\n",
    "\n",
    "for i in range(len(occupancytypes)):\n",
    "    temp_df = types_groups.get_group(occupancytypes[i])\n",
    "    occupancy_type_df.loc[i] = [occupancytypes[i], len(temp_df)]\n",
    "\n",
    "occupancy_type_df.loc[1] = ['Unlabeled', 6970]\n",
    "occupancy_type_df"
   ]
  },
  {
   "cell_type": "code",
   "execution_count": 15,
   "id": "d3c7e43a-8514-4a4e-8d25-e64c8757a24a",
   "metadata": {},
   "outputs": [
    {
     "data": {
      "text/plain": [
       "Text(0, 0.5, 'Count')"
      ]
     },
     "execution_count": 15,
     "metadata": {},
     "output_type": "execute_result"
    },
    {
     "data": {
      "image/png": "[encoded data removed]",
      "text/plain": [
       "<Figure size 432x288 with 1 Axes>"
      ]
     },
     "metadata": {
      "needs_background": "light"
     },
     "output_type": "display_data"
    }
   ],
   "source": [
    "plt.bar(occupancy_type_df['occupancytype'], occupancy_type_df['count'])\n",
    "plt.xticks(rotation=90)\n",
    "plt.title('Amount of Different Occupancies of Projects')\n",
    "plt.xlabel('Occupancy Type')\n",
    "plt.ylabel('Count')"
   ]
  },
  {
   "cell_type": "code",
   "execution_count": 16,
   "id": "aa100d59-4263-44a5-81f5-3b0b09bba676",
   "metadata": {},
   "outputs": [
    {
     "data": {
      "text/html": [
       "<div>\n",
       "<style scoped>\n",
       "    .dataframe tbody tr th:only-of-type {\n",
       "        vertical-align: middle;\n",
       "    }\n",
       "\n",
       "    .dataframe tbody tr th {\n",
       "        vertical-align: top;\n",
       "    }\n",
       "\n",
       "    .dataframe thead th {\n",
       "        text-align: right;\n",
       "    }\n",
       "</style>\n",
       "<table border=\"1\" class=\"dataframe\">\n",
       "  <thead>\n",
       "    <tr style=\"text-align: right;\">\n",
       "      <th></th>\n",
       "      <th>declared_valuation</th>\n",
       "      <th>count</th>\n",
       "    </tr>\n",
       "  </thead>\n",
       "  <tbody>\n",
       "    <tr>\n",
       "      <th>0</th>\n",
       "      <td>Above $30,000</td>\n",
       "      <td>809</td>\n",
       "    </tr>\n",
       "    <tr>\n",
       "      <th>1</th>\n",
       "      <td>Less than or equal to $30,000</td>\n",
       "      <td>281</td>\n",
       "    </tr>\n",
       "  </tbody>\n",
       "</table>\n",
       "</div>"
      ],
      "text/plain": [
       "              declared_valuation count\n",
       "0                  Above $30,000   809\n",
       "1  Less than or equal to $30,000   281"
      ]
     },
     "execution_count": 16,
     "metadata": {},
     "output_type": "execute_result"
    }
   ],
   "source": [
    "valuation_df = pd.DataFrame(columns = ['declared_valuation', 'count'])\n",
    "\n",
    "m = df['declared_valuation'].gt(30000)\n",
    "df['above 30,000'] = (m.groupby(df['permitnumber']).transform('sum').eq(1) & m).astype(int)\n",
    "\n",
    "valuation_df.loc[0] = ['Above $30,000', sum(df['above 30,000'])]\n",
    "valuation_df.loc[1] = ['Less than or equal to $30,000', len(df) - sum(df['above 30,000'])]\n",
    "\n",
    "valuation_df"
   ]
  },
  {
   "cell_type": "code",
   "execution_count": 17,
   "id": "fa2c91a9-12d9-4283-bc0b-080b9a3ef643",
   "metadata": {},
   "outputs": [
    {
     "data": {
      "text/plain": [
       "Text(0, 0.5, 'Count')"
      ]
     },
     "execution_count": 17,
     "metadata": {},
     "output_type": "execute_result"
    },
    {
     "data": {
      "image/png": "[encoded data removed]",
      "text/plain": [
       "<Figure size 432x288 with 1 Axes>"
      ]
     },
     "metadata": {
      "needs_background": "light"
     },
     "output_type": "display_data"
    }
   ],
   "source": [
    "plt.bar(valuation_df['declared_valuation'], valuation_df['count'])\n",
    "#plt.xticks(rotation=90)\n",
    "plt.title('Distribution of Project Valuations')\n",
    "plt.xlabel('Valuation')\n",
    "plt.ylabel('Count')"
   ]
  },
  {
   "cell_type": "code",
   "execution_count": 18,
   "id": "eb36ba98-1260-41c5-bf4c-b0abae630901",
   "metadata": {},
   "outputs": [
    {
     "data": {
      "text/html": [
       "<div>\n",
       "<style scoped>\n",
       "    .dataframe tbody tr th:only-of-type {\n",
       "        vertical-align: middle;\n",
       "    }\n",
       "\n",
       "    .dataframe tbody tr th {\n",
       "        vertical-align: top;\n",
       "    }\n",
       "\n",
       "    .dataframe thead th {\n",
       "        text-align: right;\n",
       "    }\n",
       "</style>\n",
       "<table border=\"1\" class=\"dataframe\">\n",
       "  <thead>\n",
       "    <tr style=\"text-align: right;\">\n",
       "      <th></th>\n",
       "      <th>declared_valuation</th>\n",
       "      <th>count</th>\n",
       "    </tr>\n",
       "  </thead>\n",
       "  <tbody>\n",
       "    <tr>\n",
       "      <th>0</th>\n",
       "      <td>Above $0</td>\n",
       "      <td>866</td>\n",
       "    </tr>\n",
       "    <tr>\n",
       "      <th>1</th>\n",
       "      <td>Equal to $0</td>\n",
       "      <td>224</td>\n",
       "    </tr>\n",
       "  </tbody>\n",
       "</table>\n",
       "</div>"
      ],
      "text/plain": [
       "  declared_valuation count\n",
       "0           Above $0   866\n",
       "1        Equal to $0   224"
      ]
     },
     "execution_count": 18,
     "metadata": {},
     "output_type": "execute_result"
    }
   ],
   "source": [
    "valuation_df2 = pd.DataFrame(columns = ['declared_valuation', 'count'])\n",
    "\n",
    "m = df['declared_valuation'].gt(0)\n",
    "df['above 0'] = (m.groupby(df['permitnumber']).transform('sum').eq(1) & m).astype(int)\n",
    "\n",
    "valuation_df2.loc[0] = ['Above $0', sum(df['above 0'])]\n",
    "valuation_df2.loc[1] = ['Equal to $0', len(df) - sum(df['above 0'])]\n",
    "\n",
    "valuation_df2"
   ]
  },
  {
   "cell_type": "code",
   "execution_count": 19,
   "id": "8aeb7354-5f0e-4f23-8a32-42091428baf3",
   "metadata": {},
   "outputs": [
    {
     "data": {
      "text/plain": [
       "Text(0, 0.5, 'Count')"
      ]
     },
     "execution_count": 19,
     "metadata": {},
     "output_type": "execute_result"
    },
    {
     "data": {
      "image/png": "[encoded data removed]",
      "text/plain": [
       "<Figure size 432x288 with 1 Axes>"
      ]
     },
     "metadata": {
      "needs_background": "light"
     },
     "output_type": "display_data"
    }
   ],
   "source": [
    "plt.bar(valuation_df2['declared_valuation'], valuation_df2['count'])\n",
    "#plt.xticks(rotation=90)\n",
    "plt.title('Distribution of Project Valuations')\n",
    "plt.xlabel('Valuation')\n",
    "plt.ylabel('Count')"
   ]
  },
  {
   "cell_type": "code",
   "execution_count": 20,
   "id": "4e9ee39e-a775-4ce1-93cf-5d005b1ea8f7",
   "metadata": {},
   "outputs": [
    {
     "name": "stderr",
     "output_type": "stream",
     "text": [
      "<ipython-input-20-56eeea366270>:7: SettingWithCopyWarning: \n",
      "A value is trying to be set on a copy of a slice from a DataFrame.\n",
      "Try using .loc[row_indexer,col_indexer] = value instead\n",
      "\n",
      "See the caveats in the documentation: https://pandas.pydata.org/pandas-docs/stable/user_guide/indexing.html#returning-a-view-versus-a-copy\n",
      "  df2['above 30,000'] = (m.groupby(df2['permitnumber']).transform('sum').eq(1) & m).astype(int)\n"
     ]
    },
    {
     "data": {
      "text/html": [
       "<div>\n",
       "<style scoped>\n",
       "    .dataframe tbody tr th:only-of-type {\n",
       "        vertical-align: middle;\n",
       "    }\n",
       "\n",
       "    .dataframe tbody tr th {\n",
       "        vertical-align: top;\n",
       "    }\n",
       "\n",
       "    .dataframe thead th {\n",
       "        text-align: right;\n",
       "    }\n",
       "</style>\n",
       "<table border=\"1\" class=\"dataframe\">\n",
       "  <thead>\n",
       "    <tr style=\"text-align: right;\">\n",
       "      <th></th>\n",
       "      <th>declared_valuation</th>\n",
       "      <th>count</th>\n",
       "    </tr>\n",
       "  </thead>\n",
       "  <tbody>\n",
       "    <tr>\n",
       "      <th>0</th>\n",
       "      <td>Above $30,000</td>\n",
       "      <td>809</td>\n",
       "    </tr>\n",
       "    <tr>\n",
       "      <th>1</th>\n",
       "      <td>Less than or equal to $30,000</td>\n",
       "      <td>57</td>\n",
       "    </tr>\n",
       "  </tbody>\n",
       "</table>\n",
       "</div>"
      ],
      "text/plain": [
       "              declared_valuation count\n",
       "0                  Above $30,000   809\n",
       "1  Less than or equal to $30,000    57"
      ]
     },
     "execution_count": 20,
     "metadata": {},
     "output_type": "execute_result"
    }
   ],
   "source": [
    "filt = df['above 0'] == 1\n",
    "df2 = df[filt]\n",
    "\n",
    "valuation_df = pd.DataFrame(columns = ['declared_valuation', 'count'])\n",
    "\n",
    "m = df2['declared_valuation'].gt(30000)\n",
    "df2['above 30,000'] = (m.groupby(df2['permitnumber']).transform('sum').eq(1) & m).astype(int)\n",
    "\n",
    "valuation_df.loc[0] = ['Above $30,000', sum(df2['above 30,000'])]\n",
    "valuation_df.loc[1] = ['Less than or equal to $30,000', len(df2) - sum(df2['above 30,000'])]\n",
    "\n",
    "valuation_df"
   ]
  },
  {
   "cell_type": "code",
   "execution_count": 21,
   "id": "8e38268b-67f8-4595-a4d2-12598166e3d5",
   "metadata": {},
   "outputs": [
    {
     "data": {
      "text/plain": [
       "Text(0, 0.5, 'Count')"
      ]
     },
     "execution_count": 21,
     "metadata": {},
     "output_type": "execute_result"
    },
    {
     "data": {
      "image/png": "[encoded data removed]",
      "text/plain": [
       "<Figure size 432x288 with 1 Axes>"
      ]
     },
     "metadata": {
      "needs_background": "light"
     },
     "output_type": "display_data"
    }
   ],
   "source": [
    "plt.bar(valuation_df['declared_valuation'], valuation_df['count'])\n",
    "#plt.xticks(rotation=90)\n",
    "plt.title('Distribution of Project Valuations Greater than 0')\n",
    "plt.xlabel('Valuation')\n",
    "plt.ylabel('Count')"
   ]
  },
  {
   "cell_type": "code",
   "execution_count": 79,
   "id": "f238086b-8402-4960-b1d1-1bc3c12ae432",
   "metadata": {},
   "outputs": [
    {
     "data": {
      "text/html": [
       "<div>\n",
       "<style scoped>\n",
       "    .dataframe tbody tr th:only-of-type {\n",
       "        vertical-align: middle;\n",
       "    }\n",
       "\n",
       "    .dataframe tbody tr th {\n",
       "        vertical-align: top;\n",
       "    }\n",
       "\n",
       "    .dataframe thead th {\n",
       "        text-align: right;\n",
       "    }\n",
       "</style>\n",
       "<table border=\"1\" class=\"dataframe\">\n",
       "  <thead>\n",
       "    <tr style=\"text-align: right;\">\n",
       "      <th></th>\n",
       "      <th>neighb</th>\n",
       "      <th>count</th>\n",
       "    </tr>\n",
       "  </thead>\n",
       "  <tbody>\n",
       "    <tr>\n",
       "      <th>0</th>\n",
       "      <td>Mission Hill</td>\n",
       "      <td>15</td>\n",
       "    </tr>\n",
       "    <tr>\n",
       "      <th>1</th>\n",
       "      <td>West Roxbury</td>\n",
       "      <td>56</td>\n",
       "    </tr>\n",
       "    <tr>\n",
       "      <th>2</th>\n",
       "      <td>South Boston</td>\n",
       "      <td>191</td>\n",
       "    </tr>\n",
       "    <tr>\n",
       "      <th>3</th>\n",
       "      <td>Roslindale</td>\n",
       "      <td>36</td>\n",
       "    </tr>\n",
       "    <tr>\n",
       "      <th>4</th>\n",
       "      <td>East Boston</td>\n",
       "      <td>121</td>\n",
       "    </tr>\n",
       "    <tr>\n",
       "      <th>5</th>\n",
       "      <td>Jamaica Plain</td>\n",
       "      <td>55</td>\n",
       "    </tr>\n",
       "    <tr>\n",
       "      <th>6</th>\n",
       "      <td>Fenway</td>\n",
       "      <td>17</td>\n",
       "    </tr>\n",
       "    <tr>\n",
       "      <th>7</th>\n",
       "      <td>Dorchester</td>\n",
       "      <td>237</td>\n",
       "    </tr>\n",
       "    <tr>\n",
       "      <th>8</th>\n",
       "      <td>South End</td>\n",
       "      <td>20</td>\n",
       "    </tr>\n",
       "    <tr>\n",
       "      <th>9</th>\n",
       "      <td>North End</td>\n",
       "      <td>6</td>\n",
       "    </tr>\n",
       "    <tr>\n",
       "      <th>10</th>\n",
       "      <td>Roxbury</td>\n",
       "      <td>111</td>\n",
       "    </tr>\n",
       "    <tr>\n",
       "      <th>11</th>\n",
       "      <td>South Boston Waterfront</td>\n",
       "      <td>27</td>\n",
       "    </tr>\n",
       "    <tr>\n",
       "      <th>12</th>\n",
       "      <td>Downtown</td>\n",
       "      <td>15</td>\n",
       "    </tr>\n",
       "    <tr>\n",
       "      <th>13</th>\n",
       "      <td>Brighton</td>\n",
       "      <td>64</td>\n",
       "    </tr>\n",
       "    <tr>\n",
       "      <th>14</th>\n",
       "      <td>Back Bay</td>\n",
       "      <td>7</td>\n",
       "    </tr>\n",
       "    <tr>\n",
       "      <th>15</th>\n",
       "      <td>Allston</td>\n",
       "      <td>10</td>\n",
       "    </tr>\n",
       "    <tr>\n",
       "      <th>16</th>\n",
       "      <td>Mattapan</td>\n",
       "      <td>25</td>\n",
       "    </tr>\n",
       "    <tr>\n",
       "      <th>17</th>\n",
       "      <td>Hyde Park</td>\n",
       "      <td>44</td>\n",
       "    </tr>\n",
       "    <tr>\n",
       "      <th>18</th>\n",
       "      <td>Charlestown</td>\n",
       "      <td>25</td>\n",
       "    </tr>\n",
       "    <tr>\n",
       "      <th>19</th>\n",
       "      <td>Longwood Medical Area</td>\n",
       "      <td>3</td>\n",
       "    </tr>\n",
       "    <tr>\n",
       "      <th>20</th>\n",
       "      <td>West End</td>\n",
       "      <td>4</td>\n",
       "    </tr>\n",
       "    <tr>\n",
       "      <th>21</th>\n",
       "      <td>Beacon Hill</td>\n",
       "      <td>1</td>\n",
       "    </tr>\n",
       "  </tbody>\n",
       "</table>\n",
       "</div>"
      ],
      "text/plain": [
       "                     neighb count\n",
       "0              Mission Hill    15\n",
       "1              West Roxbury    56\n",
       "2              South Boston   191\n",
       "3                Roslindale    36\n",
       "4               East Boston   121\n",
       "5             Jamaica Plain    55\n",
       "6                    Fenway    17\n",
       "7                Dorchester   237\n",
       "8                 South End    20\n",
       "9                 North End     6\n",
       "10                  Roxbury   111\n",
       "11  South Boston Waterfront    27\n",
       "12                 Downtown    15\n",
       "13                 Brighton    64\n",
       "14                 Back Bay     7\n",
       "15                  Allston    10\n",
       "16                 Mattapan    25\n",
       "17                Hyde Park    44\n",
       "18              Charlestown    25\n",
       "19    Longwood Medical Area     3\n",
       "20                 West End     4\n",
       "21              Beacon Hill     1"
      ]
     },
     "metadata": {},
     "output_type": "display_data"
    }
   ],
   "source": [
    "neighb_df = pd.DataFrame(columns = ['neighb', 'count'])\n",
    "\n",
    "neighbs = list(df['Neighborhood'].unique())\n",
    "\n",
    "neighb_groups = df.groupby(df.Neighborhood)\n",
    "\n",
    "for i in range(len(neighbs)):\n",
    "    if type(neighbs[i]) == float:\n",
    "        pass\n",
    "    else:\n",
    "        temp_df = neighb_groups.get_group(neighbs[i])\n",
    "        neighb_df.loc[i] = [neighbs[i], len(temp_df)]\n",
    "\n",
    "display(neighb_df)"
   ]
  },
  {
   "cell_type": "code",
   "execution_count": 81,
   "id": "c4f0ee39-5f47-482c-bd3d-bb6e48fe5e9f",
   "metadata": {},
   "outputs": [
    {
     "data": {
      "text/plain": [
       "Text(0, 0.5, 'Count')"
      ]
     },
     "execution_count": 81,
     "metadata": {},
     "output_type": "execute_result"
    },
    {
     "data": {
      "image/png": "[encoded data removed]",
      "text/plain": [
       "<Figure size 432x288 with 1 Axes>"
      ]
     },
     "metadata": {
      "needs_background": "light"
     },
     "output_type": "display_data"
    }
   ],
   "source": [
    "plt.bar(neighb_df['neighb'], neighb_df['count'])\n",
    "plt.xticks(rotation=90)\n",
    "plt.title('Distribution of Approved Permits per Neighborhood')\n",
    "plt.xlabel('City')\n",
    "plt.ylabel('Count')"
   ]
  },
  {
   "cell_type": "code",
   "execution_count": 89,
   "id": "efbfb239-13e7-4fa5-834b-ad21d1e2c8ff",
   "metadata": {
    "tags": []
   },
   "outputs": [],
   "source": [
    "temp = pd.read_csv('Boston_Neighborhood_Demographics_Based_On_ACS_5Year_Estimates_2015-19.csv')\n",
    "pops = temp[['NEIGHBORHOOD', 'TOTAL']]\n",
    "\n",
    "neighb_df['Proportions'] = np.zeros(shape=len(neighb_df))\n",
    "\n",
    "for i in range(len(neighb_df)):\n",
    "    try:\n",
    "        filt = pops['NEIGHBORHOOD'] == neighb_df.loc[i, 'neighb']\n",
    "        neighb_df.loc[i, 'Proportions'] = neighb_df.loc[i, 'count'] / pops[filt].reset_index(drop=False).loc[0, 'TOTAL']\n",
    "    except KeyError:\n",
    "        pass"
   ]
  },
  {
   "cell_type": "code",
   "execution_count": 91,
   "id": "056b76da-1601-4fb3-b205-a06785b32c93",
   "metadata": {},
   "outputs": [
    {
     "data": {
      "text/plain": [
       "Text(0, 0.5, 'Count')"
      ]
     },
     "execution_count": 91,
     "metadata": {},
     "output_type": "execute_result"
    },
    {
     "data": {
      "image/png": "[encoded data removed]",
      "text/plain": [
       "<Figure size 432x288 with 1 Axes>"
      ]
     },
     "metadata": {
      "needs_background": "light"
     },
     "output_type": "display_data"
    }
   ],
   "source": [
    "plt.bar(neighb_df['neighb'], neighb_df['Proportions'])\n",
    "plt.xticks(rotation=90)\n",
    "plt.title('Normalized Distribution of Approved Permits per City')\n",
    "plt.xlabel('City')\n",
    "plt.ylabel('Count')"
   ]
  },
  {
   "cell_type": "code",
   "execution_count": 94,
   "id": "d491a3ef-86eb-4851-8926-c54a832b107f",
   "metadata": {},
   "outputs": [
    {
     "data": {
      "text/html": [
       "<div>\n",
       "<style scoped>\n",
       "    .dataframe tbody tr th:only-of-type {\n",
       "        vertical-align: middle;\n",
       "    }\n",
       "\n",
       "    .dataframe tbody tr th {\n",
       "        vertical-align: top;\n",
       "    }\n",
       "\n",
       "    .dataframe thead th {\n",
       "        text-align: right;\n",
       "    }\n",
       "</style>\n",
       "<table border=\"1\" class=\"dataframe\">\n",
       "  <thead>\n",
       "    <tr style=\"text-align: right;\">\n",
       "      <th></th>\n",
       "      <th>neighb</th>\n",
       "      <th>count</th>\n",
       "    </tr>\n",
       "  </thead>\n",
       "  <tbody>\n",
       "    <tr>\n",
       "      <th>0</th>\n",
       "      <td>Mission Hill</td>\n",
       "      <td>8</td>\n",
       "    </tr>\n",
       "    <tr>\n",
       "      <th>1</th>\n",
       "      <td>West Roxbury</td>\n",
       "      <td>49</td>\n",
       "    </tr>\n",
       "    <tr>\n",
       "      <th>2</th>\n",
       "      <td>South Boston</td>\n",
       "      <td>171</td>\n",
       "    </tr>\n",
       "    <tr>\n",
       "      <th>3</th>\n",
       "      <td>Roslindale</td>\n",
       "      <td>32</td>\n",
       "    </tr>\n",
       "    <tr>\n",
       "      <th>4</th>\n",
       "      <td>East Boston</td>\n",
       "      <td>109</td>\n",
       "    </tr>\n",
       "    <tr>\n",
       "      <th>5</th>\n",
       "      <td>Jamaica Plain</td>\n",
       "      <td>49</td>\n",
       "    </tr>\n",
       "    <tr>\n",
       "      <th>6</th>\n",
       "      <td>Fenway</td>\n",
       "      <td>12</td>\n",
       "    </tr>\n",
       "    <tr>\n",
       "      <th>7</th>\n",
       "      <td>Dorchester</td>\n",
       "      <td>223</td>\n",
       "    </tr>\n",
       "    <tr>\n",
       "      <th>8</th>\n",
       "      <td>South End</td>\n",
       "      <td>7</td>\n",
       "    </tr>\n",
       "    <tr>\n",
       "      <th>9</th>\n",
       "      <td>North End</td>\n",
       "      <td>5</td>\n",
       "    </tr>\n",
       "    <tr>\n",
       "      <th>10</th>\n",
       "      <td>Roxbury</td>\n",
       "      <td>103</td>\n",
       "    </tr>\n",
       "    <tr>\n",
       "      <th>11</th>\n",
       "      <td>South Boston Waterfront</td>\n",
       "      <td>25</td>\n",
       "    </tr>\n",
       "    <tr>\n",
       "      <th>12</th>\n",
       "      <td>Downtown</td>\n",
       "      <td>12</td>\n",
       "    </tr>\n",
       "    <tr>\n",
       "      <th>13</th>\n",
       "      <td>Brighton</td>\n",
       "      <td>58</td>\n",
       "    </tr>\n",
       "    <tr>\n",
       "      <th>14</th>\n",
       "      <td>Back Bay</td>\n",
       "      <td>5</td>\n",
       "    </tr>\n",
       "    <tr>\n",
       "      <th>15</th>\n",
       "      <td>Allston</td>\n",
       "      <td>9</td>\n",
       "    </tr>\n",
       "    <tr>\n",
       "      <th>16</th>\n",
       "      <td>Mattapan</td>\n",
       "      <td>24</td>\n",
       "    </tr>\n",
       "    <tr>\n",
       "      <th>17</th>\n",
       "      <td>Hyde Park</td>\n",
       "      <td>39</td>\n",
       "    </tr>\n",
       "    <tr>\n",
       "      <th>18</th>\n",
       "      <td>Charlestown</td>\n",
       "      <td>24</td>\n",
       "    </tr>\n",
       "    <tr>\n",
       "      <th>19</th>\n",
       "      <td>Longwood Medical Area</td>\n",
       "      <td>3</td>\n",
       "    </tr>\n",
       "    <tr>\n",
       "      <th>20</th>\n",
       "      <td>West End</td>\n",
       "      <td>3</td>\n",
       "    </tr>\n",
       "    <tr>\n",
       "      <th>21</th>\n",
       "      <td>Beacon Hill</td>\n",
       "      <td>0</td>\n",
       "    </tr>\n",
       "  </tbody>\n",
       "</table>\n",
       "</div>"
      ],
      "text/plain": [
       "                     neighb count\n",
       "0              Mission Hill     8\n",
       "1              West Roxbury    49\n",
       "2              South Boston   171\n",
       "3                Roslindale    32\n",
       "4               East Boston   109\n",
       "5             Jamaica Plain    49\n",
       "6                    Fenway    12\n",
       "7                Dorchester   223\n",
       "8                 South End     7\n",
       "9                 North End     5\n",
       "10                  Roxbury   103\n",
       "11  South Boston Waterfront    25\n",
       "12                 Downtown    12\n",
       "13                 Brighton    58\n",
       "14                 Back Bay     5\n",
       "15                  Allston     9\n",
       "16                 Mattapan    24\n",
       "17                Hyde Park    39\n",
       "18              Charlestown    24\n",
       "19    Longwood Medical Area     3\n",
       "20                 West End     3\n",
       "21              Beacon Hill     0"
      ]
     },
     "metadata": {},
     "output_type": "display_data"
    }
   ],
   "source": [
    "new_df = pd.DataFrame(columns = ['neighb', 'count'])\n",
    "\n",
    "neighbs = list(df['Neighborhood'].unique())\n",
    "\n",
    "neighb_groups = df.groupby(df.Neighborhood)\n",
    "\n",
    "for i in range(len(neighbs)):\n",
    "    if type(neighbs[i]) == float:\n",
    "        pass\n",
    "    else:\n",
    "        temp_df = neighb_groups.get_group(neighbs[i])\n",
    "        filt = temp_df['permittypedescr'] == 'Erect/New Construction'\n",
    "        temp_df = temp_df[filt]\n",
    "        new_df.loc[i] = [neighbs[i], len(temp_df)]\n",
    "\n",
    "display(new_df)"
   ]
  },
  {
   "cell_type": "code",
   "execution_count": 96,
   "id": "f47f1e8b-476a-49fe-96e4-30c59bdee5b9",
   "metadata": {},
   "outputs": [
    {
     "data": {
      "text/plain": [
       "Text(0, 0.5, 'Count')"
      ]
     },
     "execution_count": 96,
     "metadata": {},
     "output_type": "execute_result"
    },
    {
     "data": {
      "image/png": "[encoded data removed]",
      "text/plain": [
       "<Figure size 432x288 with 1 Axes>"
      ]
     },
     "metadata": {
      "needs_background": "light"
     },
     "output_type": "display_data"
    }
   ],
   "source": [
    "plt.bar(new_df['neighb'], new_df['count'])\n",
    "plt.xticks(rotation=90)\n",
    "plt.title('Distribution of New Construction per Neighborhood')\n",
    "plt.xlabel('Neighborhood')\n",
    "plt.ylabel('Count')"
   ]
  },
  {
   "cell_type": "code",
   "execution_count": 97,
   "id": "f74690cc-2ff4-4407-975a-de69226e4114",
   "metadata": {},
   "outputs": [],
   "source": [
    "temp = pd.read_csv('Boston_Neighborhood_Demographics_Based_On_ACS_5Year_Estimates_2015-19.csv')\n",
    "pops = temp[['NEIGHBORHOOD', 'TOTAL']]\n",
    "\n",
    "new_df['Proportions'] = np.zeros(shape=len(new_df))\n",
    "\n",
    "for i in range(len(new_df)):\n",
    "    try:\n",
    "        filt = pops['NEIGHBORHOOD'] == new_df.loc[i, 'neighb']\n",
    "        new_df.loc[i, 'Proportions'] = new_df.loc[i, 'count'] / pops[filt].reset_index(drop=False).loc[0, 'TOTAL']\n",
    "    except KeyError:\n",
    "        pass"
   ]
  },
  {
   "cell_type": "code",
   "execution_count": 98,
   "id": "a5497e3c-70ca-4e7d-9b73-4304482b042a",
   "metadata": {},
   "outputs": [
    {
     "data": {
      "text/plain": [
       "Text(0, 0.5, 'Count')"
      ]
     },
     "execution_count": 98,
     "metadata": {},
     "output_type": "execute_result"
    },
    {
     "data": {
      "image/png": "[encoded data removed]",
      "text/plain": [
       "<Figure size 432x288 with 1 Axes>"
      ]
     },
     "metadata": {
      "needs_background": "light"
     },
     "output_type": "display_data"
    }
   ],
   "source": [
    "plt.bar(new_df['neighb'],new_df['Proportions'])\n",
    "plt.xticks(rotation=90)\n",
    "plt.title('Normalized Distribution of New Construction per Neighborhood')\n",
    "plt.xlabel('Neighborhood')\n",
    "plt.ylabel('Count')"
   ]
  },
  {
   "cell_type": "code",
   "execution_count": 72,
   "id": "1a94fc51-77a5-4260-b003-fd09ae478a0f",
   "metadata": {},
   "outputs": [
    {
     "data": {
      "text/html": [
       "<div>\n",
       "<style scoped>\n",
       "    .dataframe tbody tr th:only-of-type {\n",
       "        vertical-align: middle;\n",
       "    }\n",
       "\n",
       "    .dataframe tbody tr th {\n",
       "        vertical-align: top;\n",
       "    }\n",
       "\n",
       "    .dataframe thead th {\n",
       "        text-align: right;\n",
       "    }\n",
       "</style>\n",
       "<table border=\"1\" class=\"dataframe\">\n",
       "  <thead>\n",
       "    <tr style=\"text-align: right;\">\n",
       "      <th></th>\n",
       "      <th>Attribute</th>\n",
       "      <th>Count</th>\n",
       "      <th>%</th>\n",
       "    </tr>\n",
       "  </thead>\n",
       "  <tbody>\n",
       "    <tr>\n",
       "      <th>0</th>\n",
       "      <td>In Boston</td>\n",
       "      <td>302</td>\n",
       "      <td>0.277064</td>\n",
       "    </tr>\n",
       "    <tr>\n",
       "      <th>1</th>\n",
       "      <td>In MA</td>\n",
       "      <td>887</td>\n",
       "      <td>0.813761</td>\n",
       "    </tr>\n",
       "    <tr>\n",
       "      <th>2</th>\n",
       "      <td>Out of State</td>\n",
       "      <td>17</td>\n",
       "      <td>0.015596</td>\n",
       "    </tr>\n",
       "  </tbody>\n",
       "</table>\n",
       "</div>"
      ],
      "text/plain": [
       "      Attribute  Count         %\n",
       "0     In Boston    302  0.277064\n",
       "1         In MA    887  0.813761\n",
       "2  Out of State     17  0.015596"
      ]
     },
     "execution_count": 72,
     "metadata": {},
     "output_type": "execute_result"
    }
   ],
   "source": [
    "prop_assessments = pd.read_csv('PID_Owner_Comparison_And_Address.csv')\n",
    "\n",
    "temp = pd.DataFrame(0, columns=['Attribute', 'Count'], index=np.arange(len(list(range(3)))))\n",
    "temp.loc[0, 'Attribute'] = 'In Boston'\n",
    "temp.loc[1, 'Attribute'] = 'In MA'\n",
    "temp.loc[2, 'Attribute'] = 'Out of State'\n",
    "\n",
    "for i in range(len(df)):\n",
    "    pid = df.loc[i, 'parcel_id']\n",
    "    filt = prop_assessments['parcel_id'] == pid\n",
    "    temp2 = prop_assessments[filt].reset_index(drop=False)\n",
    "    if type(temp2.loc[0, 'City']) == float or type(temp2.loc[0, 'State']) == float:\n",
    "        pass\n",
    "    elif 'BOSTON' in temp2.loc[0, 'City']:\n",
    "        temp.loc[0, 'Count'] += 1\n",
    "        temp.loc[1, 'Count'] += 1\n",
    "    elif temp2.loc[0, 'State'] == 'MA':\n",
    "        temp.loc[1, 'Count'] += 1\n",
    "    else:\n",
    "        temp.loc[2, 'Count'] += 1\n",
    "\n",
    "temp['%'] = np.zeros(3)\n",
    "temp.loc[0, '%'] = temp.loc[0, 'Count']/len(df)\n",
    "temp.loc[1, '%'] = temp.loc[1, 'Count']/len(df)\n",
    "temp.loc[2, '%'] = temp.loc[2, 'Count']/len(df)\n",
    "temp"
   ]
  },
  {
   "cell_type": "code",
   "execution_count": 76,
   "id": "8ba3f545-08ac-4a1d-9e17-5085cef692a1",
   "metadata": {},
   "outputs": [
    {
     "data": {
      "text/plain": [
       "Text(0, 0.5, '% Of Total Number of Approved Permits')"
      ]
     },
     "execution_count": 76,
     "metadata": {},
     "output_type": "execute_result"
    },
    {
     "data": {
      "image/png": "[encoded data removed]",
      "text/plain": [
       "<Figure size 432x288 with 1 Axes>"
      ]
     },
     "metadata": {
      "needs_background": "light"
     },
     "output_type": "display_data"
    }
   ],
   "source": [
    "plt.bar(temp['Attribute'], temp['%'])\n",
    "plt.title('Distribution of Permit Owner Location')\n",
    "plt.ylabel('% Of Total Number of Approved Permits')"
   ]
  },
  {
   "cell_type": "code",
   "execution_count": 43,
   "id": "260a086b-7c11-4cf2-aee2-d2b0af4a9a95",
   "metadata": {},
   "outputs": [
    {
     "data": {
      "text/plain": [
       "array([0.])"
      ]
     },
     "execution_count": 43,
     "metadata": {},
     "output_type": "execute_result"
    }
   ],
   "source": [
    "filt = df['permittypedescr'] == 'Excavation Permit'\n",
    "df2 = df[filt]\n",
    "df2['declared_valuation'].unique()"
   ]
  },
  {
   "cell_type": "code",
   "execution_count": 56,
   "id": "0cd74e3b-0acd-4586-8bc9-40bd04e3bd92",
   "metadata": {},
   "outputs": [
    {
     "data": {
      "text/html": [
       "<div>\n",
       "<style scoped>\n",
       "    .dataframe tbody tr th:only-of-type {\n",
       "        vertical-align: middle;\n",
       "    }\n",
       "\n",
       "    .dataframe tbody tr th {\n",
       "        vertical-align: top;\n",
       "    }\n",
       "\n",
       "    .dataframe thead th {\n",
       "        text-align: right;\n",
       "    }\n",
       "</style>\n",
       "<table border=\"1\" class=\"dataframe\">\n",
       "  <thead>\n",
       "    <tr style=\"text-align: right;\">\n",
       "      <th></th>\n",
       "      <th>permitnumber</th>\n",
       "      <th>worktype</th>\n",
       "      <th>permittypedescr</th>\n",
       "      <th>declared_valuation</th>\n",
       "      <th>occupancytype</th>\n",
       "      <th>city</th>\n",
       "    </tr>\n",
       "  </thead>\n",
       "  <tbody>\n",
       "    <tr>\n",
       "      <th>0</th>\n",
       "      <td>A1048</td>\n",
       "      <td>ERECT</td>\n",
       "      <td>Amendment to a Long Form</td>\n",
       "      <td>0.0</td>\n",
       "      <td>Mixed</td>\n",
       "      <td>Mission Hill</td>\n",
       "    </tr>\n",
       "    <tr>\n",
       "      <th>1</th>\n",
       "      <td>A21302</td>\n",
       "      <td>NEWCON</td>\n",
       "      <td>Amendment to a Long Form</td>\n",
       "      <td>15000.0</td>\n",
       "      <td>Mixed</td>\n",
       "      <td>Mission Hill</td>\n",
       "    </tr>\n",
       "    <tr>\n",
       "      <th>2</th>\n",
       "      <td>COO752522</td>\n",
       "      <td>ERECT</td>\n",
       "      <td>Certificate of Occupancy</td>\n",
       "      <td>0.0</td>\n",
       "      <td>Mixed</td>\n",
       "      <td>Mission Hill</td>\n",
       "    </tr>\n",
       "    <tr>\n",
       "      <th>3</th>\n",
       "      <td>COO752522</td>\n",
       "      <td>ERECT</td>\n",
       "      <td>Certificate of Occupancy</td>\n",
       "      <td>0.0</td>\n",
       "      <td>Mixed</td>\n",
       "      <td>Mission Hill</td>\n",
       "    </tr>\n",
       "    <tr>\n",
       "      <th>4</th>\n",
       "      <td>COO752522</td>\n",
       "      <td>ERECT</td>\n",
       "      <td>Certificate of Occupancy</td>\n",
       "      <td>0.0</td>\n",
       "      <td>Mixed</td>\n",
       "      <td>Mission Hill</td>\n",
       "    </tr>\n",
       "    <tr>\n",
       "      <th>...</th>\n",
       "      <td>...</td>\n",
       "      <td>...</td>\n",
       "      <td>...</td>\n",
       "      <td>...</td>\n",
       "      <td>...</td>\n",
       "      <td>...</td>\n",
       "    </tr>\n",
       "    <tr>\n",
       "      <th>9161</th>\n",
       "      <td>EXCA-846479</td>\n",
       "      <td>Service</td>\n",
       "      <td>Excavation Permit</td>\n",
       "      <td>0.0</td>\n",
       "      <td></td>\n",
       "      <td>South Boston</td>\n",
       "    </tr>\n",
       "    <tr>\n",
       "      <th>9162</th>\n",
       "      <td>EXCA-961507</td>\n",
       "      <td>Capital</td>\n",
       "      <td>Excavation Permit</td>\n",
       "      <td>0.0</td>\n",
       "      <td></td>\n",
       "      <td>South Boston</td>\n",
       "    </tr>\n",
       "    <tr>\n",
       "      <th>9163</th>\n",
       "      <td>SF522908</td>\n",
       "      <td>ERECT</td>\n",
       "      <td>Short Form Bldg Permit</td>\n",
       "      <td>915.0</td>\n",
       "      <td>VacLd</td>\n",
       "      <td>South Boston</td>\n",
       "    </tr>\n",
       "    <tr>\n",
       "      <th>9165</th>\n",
       "      <td>SF95509</td>\n",
       "      <td>ERECT</td>\n",
       "      <td>Short Form Bldg Permit</td>\n",
       "      <td>1350.0</td>\n",
       "      <td>VacLd</td>\n",
       "      <td>Jamaica Plain</td>\n",
       "    </tr>\n",
       "    <tr>\n",
       "      <th>9168</th>\n",
       "      <td>SF76652</td>\n",
       "      <td>ERECT</td>\n",
       "      <td>Short Form Bldg Permit</td>\n",
       "      <td>1000.0</td>\n",
       "      <td>Other</td>\n",
       "      <td>East Boston</td>\n",
       "    </tr>\n",
       "  </tbody>\n",
       "</table>\n",
       "<p>6310 rows × 6 columns</p>\n",
       "</div>"
      ],
      "text/plain": [
       "     permitnumber worktype           permittypedescr  declared_valuation  \\\n",
       "0           A1048    ERECT  Amendment to a Long Form                 0.0   \n",
       "1          A21302   NEWCON  Amendment to a Long Form             15000.0   \n",
       "2       COO752522    ERECT  Certificate of Occupancy                 0.0   \n",
       "3       COO752522    ERECT  Certificate of Occupancy                 0.0   \n",
       "4       COO752522    ERECT  Certificate of Occupancy                 0.0   \n",
       "...           ...      ...                       ...                 ...   \n",
       "9161  EXCA-846479  Service         Excavation Permit                 0.0   \n",
       "9162  EXCA-961507  Capital         Excavation Permit                 0.0   \n",
       "9163     SF522908    ERECT    Short Form Bldg Permit               915.0   \n",
       "9165      SF95509    ERECT    Short Form Bldg Permit              1350.0   \n",
       "9168      SF76652    ERECT    Short Form Bldg Permit              1000.0   \n",
       "\n",
       "     occupancytype           city  \n",
       "0            Mixed   Mission Hill  \n",
       "1            Mixed   Mission Hill  \n",
       "2            Mixed   Mission Hill  \n",
       "3            Mixed   Mission Hill  \n",
       "4            Mixed   Mission Hill  \n",
       "...            ...            ...  \n",
       "9161                 South Boston  \n",
       "9162                 South Boston  \n",
       "9163         VacLd   South Boston  \n",
       "9165         VacLd  Jamaica Plain  \n",
       "9168         Other    East Boston  \n",
       "\n",
       "[6310 rows x 6 columns]"
      ]
     },
     "execution_count": 56,
     "metadata": {},
     "output_type": "execute_result"
    }
   ],
   "source": [
    "# REMOVED ALL MAIN WORKTYPE (MAIN = MAINTENANCE)\n",
    "filt = df['worktype'] == 'Main'\n",
    "drop = df[filt]\n",
    "inds = drop.index\n",
    "df = df.drop(inds)\n",
    "df"
   ]
  },
  {
   "cell_type": "code",
   "execution_count": 18,
   "id": "095fed6f-9239-45c5-a578-89959b62b6ef",
   "metadata": {},
   "outputs": [],
   "source": [
    "df = pd.read_csv('UPDATED_approved_projects_with_demographics.csv')"
   ]
  },
  {
   "cell_type": "code",
   "execution_count": 19,
   "id": "52280975-f4eb-477a-8715-3cd3c6e68e28",
   "metadata": {},
   "outputs": [
    {
     "data": {
      "text/html": [
       "<div>\n",
       "<style scoped>\n",
       "    .dataframe tbody tr th:only-of-type {\n",
       "        vertical-align: middle;\n",
       "    }\n",
       "\n",
       "    .dataframe tbody tr th {\n",
       "        vertical-align: top;\n",
       "    }\n",
       "\n",
       "    .dataframe thead th {\n",
       "        text-align: right;\n",
       "    }\n",
       "</style>\n",
       "<table border=\"1\" class=\"dataframe\">\n",
       "  <thead>\n",
       "    <tr style=\"text-align: right;\">\n",
       "      <th></th>\n",
       "      <th>declared_valuation</th>\n",
       "      <th>count</th>\n",
       "    </tr>\n",
       "  </thead>\n",
       "  <tbody>\n",
       "    <tr>\n",
       "      <th>0</th>\n",
       "      <td>Above $30,000</td>\n",
       "      <td>809</td>\n",
       "    </tr>\n",
       "    <tr>\n",
       "      <th>1</th>\n",
       "      <td>Less than or equal to $30,000</td>\n",
       "      <td>281</td>\n",
       "    </tr>\n",
       "  </tbody>\n",
       "</table>\n",
       "</div>"
      ],
      "text/plain": [
       "              declared_valuation count\n",
       "0                  Above $30,000   809\n",
       "1  Less than or equal to $30,000   281"
      ]
     },
     "execution_count": 19,
     "metadata": {},
     "output_type": "execute_result"
    }
   ],
   "source": [
    "valuation_df = pd.DataFrame(columns = ['declared_valuation', 'count'])\n",
    "\n",
    "m = df['declared_valuation'].gt(30000)\n",
    "df['above 30,000'] = (m.groupby(df['permitnumber']).transform('sum').eq(1) & m).astype(int)\n",
    "\n",
    "valuation_df.loc[0] = ['Above $30,000', sum(df['above 30,000'])]\n",
    "valuation_df.loc[1] = ['Less than or equal to $30,000', len(df) - sum(df['above 30,000'])]\n",
    "\n",
    "valuation_df"
   ]
  },
  {
   "cell_type": "code",
   "execution_count": 20,
   "id": "4b8c60ac-01da-4537-927e-2d9722cffc89",
   "metadata": {},
   "outputs": [
    {
     "data": {
      "text/html": [
       "<div>\n",
       "<style scoped>\n",
       "    .dataframe tbody tr th:only-of-type {\n",
       "        vertical-align: middle;\n",
       "    }\n",
       "\n",
       "    .dataframe tbody tr th {\n",
       "        vertical-align: top;\n",
       "    }\n",
       "\n",
       "    .dataframe thead th {\n",
       "        text-align: right;\n",
       "    }\n",
       "</style>\n",
       "<table border=\"1\" class=\"dataframe\">\n",
       "  <thead>\n",
       "    <tr style=\"text-align: right;\">\n",
       "      <th></th>\n",
       "      <th>declared_valuation</th>\n",
       "      <th>count</th>\n",
       "    </tr>\n",
       "  </thead>\n",
       "  <tbody>\n",
       "    <tr>\n",
       "      <th>0</th>\n",
       "      <td>Above $0</td>\n",
       "      <td>866</td>\n",
       "    </tr>\n",
       "    <tr>\n",
       "      <th>1</th>\n",
       "      <td>Equal to $0</td>\n",
       "      <td>224</td>\n",
       "    </tr>\n",
       "  </tbody>\n",
       "</table>\n",
       "</div>"
      ],
      "text/plain": [
       "  declared_valuation count\n",
       "0           Above $0   866\n",
       "1        Equal to $0   224"
      ]
     },
     "execution_count": 20,
     "metadata": {},
     "output_type": "execute_result"
    }
   ],
   "source": [
    "valuation_df2 = pd.DataFrame(columns = ['declared_valuation', 'count'])\n",
    "\n",
    "m = df['declared_valuation'].gt(0)\n",
    "df['above 0'] = (m.groupby(df['permitnumber']).transform('sum').eq(1) & m).astype(int)\n",
    "\n",
    "valuation_df2.loc[0] = ['Above $0', sum(df['above 0'])]\n",
    "valuation_df2.loc[1] = ['Equal to $0', len(df) - sum(df['above 0'])]\n",
    "\n",
    "valuation_df2"
   ]
  },
  {
   "cell_type": "code",
   "execution_count": 99,
   "id": "3406053e-7b1f-4273-8478-8208eca05e06",
   "metadata": {},
   "outputs": [
    {
     "data": {
      "text/plain": [
       "Index(['Unnamed: 0', 'Case Number', 'Applicant', 'Address',\n",
       "       'Decision (Approve/Reject)', 'geocodes', 'lat', 'long', 'Cencus Tract',\n",
       "       'Zipcode', 'Neighborhood', 'US Geonames Sub-neigborhood',\n",
       "       'Total Population', ' Black', 'Black Proportion', 'White',\n",
       "       'White Proportion', 'American Indian & Alaska Native',\n",
       "       'American Indian & Alaska Native Proportion', 'Asian',\n",
       "       'Asian Proportion', 'Male ', 'Male Proportion', 'Female ',\n",
       "       'Female Proportion ', 'Lat', 'Long', 'Primary Sub-Neighborhood',\n",
       "       'Secondary Sub-Neighborhood', 'Teritriary Sub-Neighborhood(s)',\n",
       "       'T-Stop/Commuter Rail'],\n",
       "      dtype='object')"
      ]
     },
     "execution_count": 99,
     "metadata": {},
     "output_type": "execute_result"
    }
   ],
   "source": [
    "zba = pd.read_csv('decisions_with_demographics.csv')\n",
    "zba.columns"
   ]
  },
  {
   "cell_type": "code",
   "execution_count": 101,
   "id": "9671716f-e04f-4e80-931e-56c0966fce9b",
   "metadata": {},
   "outputs": [
    {
     "data": {
      "text/html": [
       "<div>\n",
       "<style scoped>\n",
       "    .dataframe tbody tr th:only-of-type {\n",
       "        vertical-align: middle;\n",
       "    }\n",
       "\n",
       "    .dataframe tbody tr th {\n",
       "        vertical-align: top;\n",
       "    }\n",
       "\n",
       "    .dataframe thead th {\n",
       "        text-align: right;\n",
       "    }\n",
       "</style>\n",
       "<table border=\"1\" class=\"dataframe\">\n",
       "  <thead>\n",
       "    <tr style=\"text-align: right;\">\n",
       "      <th></th>\n",
       "      <th>Neighborhood</th>\n",
       "      <th>Approval Rate</th>\n",
       "    </tr>\n",
       "  </thead>\n",
       "  <tbody>\n",
       "    <tr>\n",
       "      <th>0</th>\n",
       "      <td>Allston</td>\n",
       "      <td>0.913043</td>\n",
       "    </tr>\n",
       "    <tr>\n",
       "      <th>1</th>\n",
       "      <td>Beacon Hill</td>\n",
       "      <td>0.916667</td>\n",
       "    </tr>\n",
       "    <tr>\n",
       "      <th>2</th>\n",
       "      <td>South End</td>\n",
       "      <td>0.897059</td>\n",
       "    </tr>\n",
       "    <tr>\n",
       "      <th>3</th>\n",
       "      <td>Back Bay</td>\n",
       "      <td>0.952381</td>\n",
       "    </tr>\n",
       "    <tr>\n",
       "      <th>4</th>\n",
       "      <td>Roxbury</td>\n",
       "      <td>0.945783</td>\n",
       "    </tr>\n",
       "    <tr>\n",
       "      <th>5</th>\n",
       "      <td>Jamaica Plain</td>\n",
       "      <td>0.786667</td>\n",
       "    </tr>\n",
       "    <tr>\n",
       "      <th>6</th>\n",
       "      <td>Downtown</td>\n",
       "      <td>0.944954</td>\n",
       "    </tr>\n",
       "    <tr>\n",
       "      <th>7</th>\n",
       "      <td>Dorchester</td>\n",
       "      <td>0.892308</td>\n",
       "    </tr>\n",
       "    <tr>\n",
       "      <th>8</th>\n",
       "      <td>Hyde Park</td>\n",
       "      <td>0.762500</td>\n",
       "    </tr>\n",
       "    <tr>\n",
       "      <th>9</th>\n",
       "      <td>West Roxbury</td>\n",
       "      <td>0.819672</td>\n",
       "    </tr>\n",
       "    <tr>\n",
       "      <th>10</th>\n",
       "      <td>Roslindale</td>\n",
       "      <td>0.912442</td>\n",
       "    </tr>\n",
       "    <tr>\n",
       "      <th>11</th>\n",
       "      <td>Brighton</td>\n",
       "      <td>0.894309</td>\n",
       "    </tr>\n",
       "    <tr>\n",
       "      <th>12</th>\n",
       "      <td>East Boston</td>\n",
       "      <td>0.918033</td>\n",
       "    </tr>\n",
       "    <tr>\n",
       "      <th>13</th>\n",
       "      <td>North End</td>\n",
       "      <td>0.952381</td>\n",
       "    </tr>\n",
       "    <tr>\n",
       "      <th>14</th>\n",
       "      <td>Fenway</td>\n",
       "      <td>0.750000</td>\n",
       "    </tr>\n",
       "    <tr>\n",
       "      <th>15</th>\n",
       "      <td>South Boston</td>\n",
       "      <td>0.886029</td>\n",
       "    </tr>\n",
       "    <tr>\n",
       "      <th>16</th>\n",
       "      <td>Charlestown</td>\n",
       "      <td>0.915789</td>\n",
       "    </tr>\n",
       "    <tr>\n",
       "      <th>17</th>\n",
       "      <td>Mission Hill</td>\n",
       "      <td>0.650000</td>\n",
       "    </tr>\n",
       "    <tr>\n",
       "      <th>18</th>\n",
       "      <td>South Boston Waterfront</td>\n",
       "      <td>1.000000</td>\n",
       "    </tr>\n",
       "    <tr>\n",
       "      <th>19</th>\n",
       "      <td>Mattapan</td>\n",
       "      <td>0.529412</td>\n",
       "    </tr>\n",
       "    <tr>\n",
       "      <th>20</th>\n",
       "      <td>West End</td>\n",
       "      <td>1.000000</td>\n",
       "    </tr>\n",
       "  </tbody>\n",
       "</table>\n",
       "</div>"
      ],
      "text/plain": [
       "               Neighborhood  Approval Rate\n",
       "0                   Allston       0.913043\n",
       "1               Beacon Hill       0.916667\n",
       "2                 South End       0.897059\n",
       "3                  Back Bay       0.952381\n",
       "4                   Roxbury       0.945783\n",
       "5             Jamaica Plain       0.786667\n",
       "6                  Downtown       0.944954\n",
       "7                Dorchester       0.892308\n",
       "8                 Hyde Park       0.762500\n",
       "9              West Roxbury       0.819672\n",
       "10               Roslindale       0.912442\n",
       "11                 Brighton       0.894309\n",
       "12              East Boston       0.918033\n",
       "13                North End       0.952381\n",
       "14                   Fenway       0.750000\n",
       "15             South Boston       0.886029\n",
       "16              Charlestown       0.915789\n",
       "17             Mission Hill       0.650000\n",
       "18  South Boston Waterfront       1.000000\n",
       "19                 Mattapan       0.529412\n",
       "20                 West End       1.000000"
      ]
     },
     "metadata": {},
     "output_type": "display_data"
    }
   ],
   "source": [
    "approval_df = pd.DataFrame(columns = ['Neighborhood', 'Approval Rate'])\n",
    "\n",
    "neighbs = list(zba['Neighborhood'].unique())\n",
    "\n",
    "neighb_groups = zba.groupby(zba.Neighborhood)\n",
    "\n",
    "for i in range(len(neighbs)):\n",
    "    if type(neighbs[i]) == float:\n",
    "        pass\n",
    "    else:\n",
    "        temp_df = neighb_groups.get_group(neighbs[i])\n",
    "        total = len(temp_df)\n",
    "        filt = temp_df['Decision (Approve/Reject)'] == 'Approved'\n",
    "        temp_df = temp_df[filt]\n",
    "        approval_df.loc[i] = [neighbs[i], len(temp_df)/total]\n",
    "\n",
    "display(approval_df)"
   ]
  },
  {
   "cell_type": "code",
   "execution_count": 104,
   "id": "a546708a-6bb2-4bea-b70e-636af4add8db",
   "metadata": {},
   "outputs": [
    {
     "data": {
      "text/plain": [
       "Text(0, 0.5, 'Approval Rate')"
      ]
     },
     "execution_count": 104,
     "metadata": {},
     "output_type": "execute_result"
    },
    {
     "data": {
      "image/png": "[encoded data removed]",
      "text/plain": [
       "<Figure size 432x288 with 1 Axes>"
      ]
     },
     "metadata": {
      "needs_background": "light"
     },
     "output_type": "display_data"
    }
   ],
   "source": [
    "plt.bar(approval_df['Neighborhood'],approval_df['Approval Rate'])\n",
    "plt.xticks(rotation=90)\n",
    "plt.title('ZBA Approval Rate per Neighborhood')\n",
    "plt.xlabel('Neighborhood')\n",
    "plt.ylabel('Approval Rate')"
   ]
  },
  {
   "cell_type": "code",
   "execution_count": 106,
   "id": "bbc2aa36-6697-4f3b-90f4-08465e54ad4b",
   "metadata": {},
   "outputs": [
    {
     "data": {
      "text/plain": [
       "Index(['Unnamed: 0', 'Unnamed: 0.1', 'permitnumber', 'worktype',\n",
       "       'permittypedescr', 'description', 'comments', 'applicant',\n",
       "       'declared_valuation', 'total_fees', 'issued_date', 'expiration_date',\n",
       "       'status', 'owner', 'occupancytype', 'sq_feet', 'address', 'city',\n",
       "       'state', 'zip', 'property_id', 'parcel_id', 'Cencus_Tract', 'Zipcode',\n",
       "       'Neighborhood', 'US Geonames Sub-neigborhood', 'Total Population',\n",
       "       ' Black', 'Black Proportion', 'White', 'White Proportion',\n",
       "       'American Indian & Alaska Native',\n",
       "       'American Indian & Alaska Native Proportion', 'Asian',\n",
       "       'Asian Proportion', 'Male ', 'Male Proportion', 'Female ',\n",
       "       'Female Proportion ', 'Lat', 'Long', 'Primary Sub-Neighborhood',\n",
       "       'Secondary Sub-Neighborhood', 'Teritriary Sub-Neighborhood(s)',\n",
       "       'T-Stop/Commuter Rail', 'above 30,000', 'above 0'],\n",
       "      dtype='object')"
      ]
     },
     "execution_count": 106,
     "metadata": {},
     "output_type": "execute_result"
    }
   ],
   "source": [
    "df.columns"
   ]
  },
  {
   "cell_type": "code",
   "execution_count": 113,
   "id": "16219d6c-6dd5-40fe-b252-ff1be4c4c485",
   "metadata": {},
   "outputs": [
    {
     "name": "stdout",
     "output_type": "stream",
     "text": [
      "<class 'numpy.int64'>\n"
     ]
    },
    {
     "data": {
      "text/html": [
       "<div>\n",
       "<style scoped>\n",
       "    .dataframe tbody tr th:only-of-type {\n",
       "        vertical-align: middle;\n",
       "    }\n",
       "\n",
       "    .dataframe tbody tr th {\n",
       "        vertical-align: top;\n",
       "    }\n",
       "\n",
       "    .dataframe thead th {\n",
       "        text-align: right;\n",
       "    }\n",
       "</style>\n",
       "<table border=\"1\" class=\"dataframe\">\n",
       "  <thead>\n",
       "    <tr style=\"text-align: right;\">\n",
       "      <th></th>\n",
       "      <th>neighb</th>\n",
       "      <th>count</th>\n",
       "      <th>Proportions</th>\n",
       "      <th>Race</th>\n",
       "    </tr>\n",
       "  </thead>\n",
       "  <tbody>\n",
       "    <tr>\n",
       "      <th>0</th>\n",
       "      <td>Mission Hill</td>\n",
       "      <td>8</td>\n",
       "      <td>0.000561</td>\n",
       "      <td>Non-White</td>\n",
       "    </tr>\n",
       "    <tr>\n",
       "      <th>1</th>\n",
       "      <td>West Roxbury</td>\n",
       "      <td>49</td>\n",
       "      <td>0.001465</td>\n",
       "      <td>White</td>\n",
       "    </tr>\n",
       "    <tr>\n",
       "      <th>2</th>\n",
       "      <td>South Boston</td>\n",
       "      <td>171</td>\n",
       "      <td>0.004701</td>\n",
       "      <td>White</td>\n",
       "    </tr>\n",
       "    <tr>\n",
       "      <th>3</th>\n",
       "      <td>Roslindale</td>\n",
       "      <td>32</td>\n",
       "      <td>0.001059</td>\n",
       "      <td>White</td>\n",
       "    </tr>\n",
       "    <tr>\n",
       "      <th>4</th>\n",
       "      <td>East Boston</td>\n",
       "      <td>109</td>\n",
       "      <td>0.002966</td>\n",
       "      <td>White</td>\n",
       "    </tr>\n",
       "    <tr>\n",
       "      <th>5</th>\n",
       "      <td>Jamaica Plain</td>\n",
       "      <td>49</td>\n",
       "      <td>0.001117</td>\n",
       "      <td>White</td>\n",
       "    </tr>\n",
       "    <tr>\n",
       "      <th>6</th>\n",
       "      <td>Fenway</td>\n",
       "      <td>12</td>\n",
       "      <td>0.000373</td>\n",
       "      <td>White</td>\n",
       "    </tr>\n",
       "    <tr>\n",
       "      <th>7</th>\n",
       "      <td>Dorchester</td>\n",
       "      <td>223</td>\n",
       "      <td>0.001820</td>\n",
       "      <td>Non-White</td>\n",
       "    </tr>\n",
       "    <tr>\n",
       "      <th>8</th>\n",
       "      <td>South End</td>\n",
       "      <td>7</td>\n",
       "      <td>0.000289</td>\n",
       "      <td>Non-White</td>\n",
       "    </tr>\n",
       "    <tr>\n",
       "      <th>9</th>\n",
       "      <td>North End</td>\n",
       "      <td>5</td>\n",
       "      <td>0.000737</td>\n",
       "      <td>White</td>\n",
       "    </tr>\n",
       "    <tr>\n",
       "      <th>10</th>\n",
       "      <td>Roxbury</td>\n",
       "      <td>103</td>\n",
       "      <td>0.001915</td>\n",
       "      <td>Non-White</td>\n",
       "    </tr>\n",
       "    <tr>\n",
       "      <th>11</th>\n",
       "      <td>South Boston Waterfront</td>\n",
       "      <td>25</td>\n",
       "      <td>0.003941</td>\n",
       "      <td>White</td>\n",
       "    </tr>\n",
       "    <tr>\n",
       "      <th>12</th>\n",
       "      <td>Downtown</td>\n",
       "      <td>12</td>\n",
       "      <td>0.000867</td>\n",
       "      <td>White</td>\n",
       "    </tr>\n",
       "    <tr>\n",
       "      <th>13</th>\n",
       "      <td>Brighton</td>\n",
       "      <td>58</td>\n",
       "      <td>0.001194</td>\n",
       "      <td>White</td>\n",
       "    </tr>\n",
       "    <tr>\n",
       "      <th>14</th>\n",
       "      <td>Back Bay</td>\n",
       "      <td>5</td>\n",
       "      <td>0.000241</td>\n",
       "      <td>White</td>\n",
       "    </tr>\n",
       "    <tr>\n",
       "      <th>15</th>\n",
       "      <td>Allston</td>\n",
       "      <td>9</td>\n",
       "      <td>0.000338</td>\n",
       "      <td>White</td>\n",
       "    </tr>\n",
       "    <tr>\n",
       "      <th>16</th>\n",
       "      <td>Mattapan</td>\n",
       "      <td>24</td>\n",
       "      <td>0.000894</td>\n",
       "      <td>Non-White</td>\n",
       "    </tr>\n",
       "    <tr>\n",
       "      <th>17</th>\n",
       "      <td>Hyde Park</td>\n",
       "      <td>39</td>\n",
       "      <td>0.001027</td>\n",
       "      <td>Non-White</td>\n",
       "    </tr>\n",
       "    <tr>\n",
       "      <th>18</th>\n",
       "      <td>Charlestown</td>\n",
       "      <td>24</td>\n",
       "      <td>0.001473</td>\n",
       "      <td>White</td>\n",
       "    </tr>\n",
       "    <tr>\n",
       "      <th>19</th>\n",
       "      <td>Longwood Medical Area</td>\n",
       "      <td>3</td>\n",
       "      <td>0.000000</td>\n",
       "      <td>White</td>\n",
       "    </tr>\n",
       "    <tr>\n",
       "      <th>20</th>\n",
       "      <td>West End</td>\n",
       "      <td>3</td>\n",
       "      <td>0.000482</td>\n",
       "      <td>White</td>\n",
       "    </tr>\n",
       "    <tr>\n",
       "      <th>21</th>\n",
       "      <td>Beacon Hill</td>\n",
       "      <td>0</td>\n",
       "      <td>0.000000</td>\n",
       "      <td>White</td>\n",
       "    </tr>\n",
       "  </tbody>\n",
       "</table>\n",
       "</div>"
      ],
      "text/plain": [
       "                     neighb count  Proportions       Race\n",
       "0              Mission Hill     8     0.000561  Non-White\n",
       "1              West Roxbury    49     0.001465      White\n",
       "2              South Boston   171     0.004701      White\n",
       "3                Roslindale    32     0.001059      White\n",
       "4               East Boston   109     0.002966      White\n",
       "5             Jamaica Plain    49     0.001117      White\n",
       "6                    Fenway    12     0.000373      White\n",
       "7                Dorchester   223     0.001820  Non-White\n",
       "8                 South End     7     0.000289  Non-White\n",
       "9                 North End     5     0.000737      White\n",
       "10                  Roxbury   103     0.001915  Non-White\n",
       "11  South Boston Waterfront    25     0.003941      White\n",
       "12                 Downtown    12     0.000867      White\n",
       "13                 Brighton    58     0.001194      White\n",
       "14                 Back Bay     5     0.000241      White\n",
       "15                  Allston     9     0.000338      White\n",
       "16                 Mattapan    24     0.000894  Non-White\n",
       "17                Hyde Park    39     0.001027  Non-White\n",
       "18              Charlestown    24     0.001473      White\n",
       "19    Longwood Medical Area     3     0.000000      White\n",
       "20                 West End     3     0.000482      White\n",
       "21              Beacon Hill     0     0.000000      White"
      ]
     },
     "metadata": {},
     "output_type": "display_data"
    }
   ],
   "source": [
    "new_df['Race'] = np.zeros(shape=len(new_df))\n",
    "\n",
    "df = df.astype({\"White Proportion\": int})\n",
    "\n",
    "for i in range(len(new_df)):\n",
    "    filt = df['Neighborhood'] == new_df.loc[i, 'neighb']\n",
    "    temp = df[filt].reset_index(drop=False)\n",
    "    if temp.loc[0, 'White Proportion'] >= 50:\n",
    "        new_df.loc[i, 'Race'] = 'White'\n",
    "    else:\n",
    "        new_df.loc[i, 'Race'] = 'Non-White'\n",
    "\n",
    "display(new_df)"
   ]
  },
  {
   "cell_type": "code",
   "execution_count": 127,
   "id": "6ac10ff7-60f6-493d-ad45-231b7c04796c",
   "metadata": {},
   "outputs": [
    {
     "data": {
      "text/plain": [
       "<matplotlib.legend.Legend at 0x7f95d32ab3a0>"
      ]
     },
     "execution_count": 127,
     "metadata": {},
     "output_type": "execute_result"
    },
    {
     "data": {
      "image/png": "[encoded data removed]",
      "text/plain": [
       "<Figure size 432x288 with 1 Axes>"
      ]
     },
     "metadata": {
      "needs_background": "light"
     },
     "output_type": "display_data"
    }
   ],
   "source": [
    "colors = []\n",
    "\n",
    "for i in range(len(new_df)):\n",
    "    if new_df.loc[i, 'Race'] == 'White':\n",
    "        colors.append('b')\n",
    "    else:\n",
    "        colors.append('r')\n",
    "\n",
    "plt.bar(new_df['neighb'],new_df['count'], color=colors)\n",
    "plt.xticks(rotation=90)\n",
    "plt.title('Normalized Distribution of New Construction White vs. Non-White Neighborhoods')\n",
    "plt.xlabel('Neighborhood')\n",
    "plt.ylabel('Count')\n",
    "red_patch = mpatches.Patch(color='red', label='Non-White')\n",
    "blue_patch = mpatches.Patch(color='blue', label='White')\n",
    "\n",
    "plt.legend(handles=[red_patch, blue_patch])"
   ]
  },
  {
   "cell_type": "code",
   "execution_count": null,
   "id": "ce0d9b7e-aa3f-48bb-a19f-80d15c1d5155",
   "metadata": {},
   "outputs": [],
   "source": []
  }
 ],
 "metadata": {
  "kernelspec": {
   "display_name": "Python 3",
   "language": "python",
   "name": "python3"
  },
  "language_info": {
   "codemirror_mode": {
    "name": "ipython",
    "version": 3
   },
   "file_extension": ".py",
   "mimetype": "text/x-python",
   "name": "python",
   "nbconvert_exporter": "python",
   "pygments_lexer": "ipython3",
   "version": "3.8.8"
  }
 },
 "nbformat": 4,
 "nbformat_minor": 5
}
